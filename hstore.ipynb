{
 "metadata": {
  "language_info": {
   "codemirror_mode": {
    "name": "ipython",
    "version": 3
   },
   "file_extension": ".py",
   "mimetype": "text/x-python",
   "name": "python",
   "nbconvert_exporter": "python",
   "pygments_lexer": "ipython3",
   "version": "3.8.6-final"
  },
  "orig_nbformat": 2,
  "kernelspec": {
   "name": "Python 3.8.6 64-bit",
   "display_name": "Python 3.8.6 64-bit",
   "metadata": {
    "interpreter": {
     "hash": "4cd7ab41f5fca4b9b44701077e38c5ffd31fe66a6cab21e0214b68d958d0e462"
    }
   }
  }
 },
 "nbformat": 4,
 "nbformat_minor": 2,
 "cells": [
  {
   "source": [
    "# hstore data\n",
    "- for storing key-value pairs in a single value.\n",
    "- useful for semi-structured data or rows with many attributes\n",
    "- ++ you cannot store duplicated key. \n",
    "- ++ stored as a string ONLY\n",
    "<br><br>\n",
    "----------------------------------------------------------------------------\n",
    "Starting DATA<br>\n",
    "\n",
    "| Employer      | Year_begin | Year_end | Dictionary                                                                 |\n",
    "|---------------|------------|----------|----------------------------------------------------------------------------|\n",
    "| Mr Han        | 1977       | 2019     | {\"first_name\":\"Chewie\", \"last_name\":\"Wookie\",\"occupation\":\"thrill seeker\"} |\n",
    "| Self employed | 1983       | 1985     | {\"first_name\":\"Ewok\",\"last_name\":\"Endor\", \"occupation\":\"forest dweller\"}   |\n",
    "| self          | 1999       | 2011     | {\"first_name\":\"Harry\",\"last_name\":\"P\", \"occupation\":\"magic\"}               |\n",
    "----------------------------------------------------------------------------\n",
    "<br>\n",
    "End Result PSQL<br><br>\n",
    "\n",
    "| id | Employer      | Year_begin | Year_end | H_store                                                                      |\n",
    "|----|---------------|------------|----------|------------------------------------------------------------------------------|\n",
    "| 1  | Mr Han        | 1977       | 2019     | \"last_name\"=>\"Wookie\", \"first_name\"=>\"Chewie\", \"occupation\"=>\"thrill seeker\" |\n",
    "| 2  | Self employed | 1983       | 1985     | \"last_name\"=>\"Endor\", \"first_name\"=>\"Ewok\", \"occupation\"=>\"forest dweller\"   |\n",
    "| 3  | self          | 1999       | 2011     | \"last_name\"=>\"P\", \"first_name\"=>\"Harry\", \"occupation\"=>\"magic\"               |"
   ],
   "cell_type": "markdown",
   "metadata": {}
  },
  {
   "cell_type": "code",
   "execution_count": 1,
   "metadata": {},
   "outputs": [],
   "source": [
    "import psycopg2           \n",
    "import pandas as pd   \n",
    "import seaborn as sns\n",
    "from config import config# Import the 'config' function from the config.py file:\n",
    "\n",
    "# Get the config params\n",
    "params_ = config()\n",
    "# Connect to the Postgres_DB:\n",
    "conn = psycopg2.connect(**params_)\n",
    "# Create new_cursor allowing us to write Python to execute PSQL:\n",
    "cur = conn.cursor()\n",
    "conn.autocommit = True"
   ]
  },
  {
   "cell_type": "code",
   "execution_count": 2,
   "metadata": {},
   "outputs": [],
   "source": [
    "# Create a Table to store data: (you have to establish the extension to use hstore)\n",
    "\n",
    "def create_staging_table(cursor):\n",
    "    cursor.execute(\"\"\"\n",
    "        CREATE EXTENSION IF NOT EXISTS hstore; /*enable the hstore extension*/\n",
    "        DROP TABLE IF EXISTS h_dct_prac;\n",
    "        CREATE UNLOGGED TABLE  h_dct_prac (\n",
    "            ID serial NOT NULL PRIMARY KEY,\n",
    "            employer text, \n",
    "            yr_begin INT, \n",
    "            yr_end INT, \n",
    "            attr hstore);\"\"\") # column attr has a datatype of hstore\n",
    "\n",
    "# Send the Schema to PSQL\n",
    "with conn.cursor() as cursor:\n",
    "    create_staging_table(cursor)   "
   ]
  },
  {
   "source": [
    "# Insert one hstore data & multiple hstore data"
   ],
   "cell_type": "markdown",
   "metadata": {}
  },
  {
   "cell_type": "code",
   "execution_count": 3,
   "metadata": {},
   "outputs": [
    {
     "output_type": "execute_result",
     "data": {
      "text/plain": [
       "[(1,\n",
       "  'everyone',\n",
       "  1677,\n",
       "  2020,\n",
       "  '\"last_name\"=>\"Clause\", \"first_name\"=>\"Santa\", \"occupation\"=>\"gift giver\"')]"
      ]
     },
     "metadata": {},
     "execution_count": 3
    }
   ],
   "source": [
    "# Insert ONE\n",
    "\n",
    "sql_=\"\"\"\n",
    "INSERT INTO h_dct_prac (employer,yr_begin,yr_end,attr) VALUES (%s,%s,%s,%s)\n",
    "\"\"\"\n",
    "nemo=['everyone',\n",
    "        1677,\n",
    "        2020,\n",
    "        '\"first_name\"=>\"Santa\",\"last_name\"=>\"Clause\",\"occupation\"=>\"gift giver\"']\n",
    "cur.execute(sql_, nemo)\n",
    "\n",
    "sq=\"\"\"select * from h_dct_prac\"\"\"\n",
    "cur.execute(sq)\n",
    "cur.fetchall()"
   ]
  },
  {
   "cell_type": "code",
   "execution_count": 4,
   "metadata": {},
   "outputs": [],
   "source": [
    "# Insert MANY\n",
    "# Data\n",
    "names_occup = [(\"Mr Han\",1977,2019,{\"first_name\":\"Chewie\",\n",
    "\"last_name\":\"Wookie\",\"occupation\":\"thrill seeker\"},),\n",
    "(\"self_empl\",1983,1985,{\"first_name\":\"Ewok\",\"last_name\":\"Endor\",\n",
    "                        \"occupation\":\"forest dweller\"},),\n",
    "(\"self\",1999,2011,{\"first_name\":\"Harry\",\"last_name\":\"P\",\"occupation\":\"magic\"},)]"
   ]
  },
  {
   "cell_type": "code",
   "execution_count": 5,
   "metadata": {},
   "outputs": [],
   "source": [
    "# Change dic to hstore format\n",
    "final_ =[]\n",
    "for i in names_occup:\n",
    "    dic = i[3]\n",
    "    dic2 = str(dic).replace(\"'\", '\"').replace(\": \", \"=>\").replace(\"{\",\"\").replace(\"}\",\"\")\n",
    "    final_.append([i[0],i[1],i[2],dic2])"
   ]
  },
  {
   "cell_type": "code",
   "execution_count": 6,
   "metadata": {},
   "outputs": [
    {
     "output_type": "execute_result",
     "data": {
      "text/plain": [
       "[(1,\n",
       "  'everyone',\n",
       "  1677,\n",
       "  2020,\n",
       "  '\"last_name\"=>\"Clause\", \"first_name\"=>\"Santa\", \"occupation\"=>\"gift giver\"'),\n",
       " (2,\n",
       "  'Mr Han',\n",
       "  1977,\n",
       "  2019,\n",
       "  '\"last_name\"=>\"Wookie\", \"first_name\"=>\"Chewie\", \"occupation\"=>\"thrill seeker\"'),\n",
       " (3,\n",
       "  'self_empl',\n",
       "  1983,\n",
       "  1985,\n",
       "  '\"last_name\"=>\"Endor\", \"first_name\"=>\"Ewok\", \"occupation\"=>\"forest dweller\"'),\n",
       " (4,\n",
       "  'self',\n",
       "  1999,\n",
       "  2011,\n",
       "  '\"last_name\"=>\"P\", \"first_name\"=>\"Harry\", \"occupation\"=>\"magic\"')]"
      ]
     },
     "metadata": {},
     "execution_count": 6
    }
   ],
   "source": [
    "# Insert\n",
    "sql_=\"\"\"\n",
    "INSERT INTO h_dct_prac (employer,yr_begin,yr_end,attr) VALUES (%s,%s,%s,%s)\n",
    "\"\"\"\n",
    "\n",
    "for i in final_:\n",
    "    cur.execute(sql_,i)\n",
    "\n",
    "sql=\"\"\"\n",
    "select * from h_dct_prac\n",
    "\"\"\"\n",
    "cur.execute(sql)\n",
    "cur.fetchall()"
   ]
  },
  {
   "source": [
    "# Query"
   ],
   "cell_type": "markdown",
   "metadata": {}
  },
  {
   "cell_type": "code",
   "execution_count": 7,
   "metadata": {},
   "outputs": [
    {
     "output_type": "execute_result",
     "data": {
      "text/plain": [
       "[(2,\n",
       "  'Mr Han',\n",
       "  1977,\n",
       "  2019,\n",
       "  '\"last_name\"=>\"Wookie\", \"first_name\"=>\"Chewie\", \"occupation\"=>\"thrill seeker\"'),\n",
       " (3,\n",
       "  'self_empl',\n",
       "  1983,\n",
       "  1985,\n",
       "  '\"last_name\"=>\"Endor\", \"first_name\"=>\"Ewok\", \"occupation\"=>\"forest dweller\"'),\n",
       " (4,\n",
       "  'self',\n",
       "  1999,\n",
       "  2011,\n",
       "  '\"last_name\"=>\"P\", \"first_name\"=>\"Harry\", \"occupation\"=>\"magic\"'),\n",
       " (1,\n",
       "  'everyone',\n",
       "  1677,\n",
       "  2020,\n",
       "  '\"last_name\"=>\"Clause\", \"first_name\"=>\"Mr_Santa\", \"occupation\"=>\"gift giver\"')]"
      ]
     },
     "metadata": {},
     "execution_count": 7
    }
   ],
   "source": [
    "# Update existing key-value pair\n",
    "## when id=1, change first name to \"Mr_Santa\"\n",
    "\n",
    "sq_santa = \"\"\"\n",
    "UPDATE h_dct_prac SET attr = attr || '\"first_name\"=>\"Mr_Santa\"' \n",
    "WHERE id=1;\n",
    "\"\"\"\n",
    "cur.execute(sq_santa)\n",
    "\n",
    "cur.execute('''select * from h_dct_prac''')\n",
    "cur.fetchall()"
   ]
  },
  {
   "cell_type": "code",
   "execution_count": 8,
   "metadata": {},
   "outputs": [
    {
     "output_type": "execute_result",
     "data": {
      "text/plain": [
       "[('Chewie',), ('Ewok',), ('Harry',), ('Mr_Santa',)]"
      ]
     },
     "metadata": {},
     "execution_count": 8
    }
   ],
   "source": [
    "# Query - first name only\n",
    "\n",
    "q = \"\"\"SELECT attr -> 'first_name' AS f_n\n",
    "FROM h_dct_prac;\"\"\"\n",
    "cur.execute(q)\n",
    "cur.fetchall()"
   ]
  },
  {
   "cell_type": "code",
   "execution_count": 9,
   "metadata": {},
   "outputs": [
    {
     "output_type": "execute_result",
     "data": {
      "text/plain": [
       "[('self', '\"last_name\"=>\"P\", \"first_name\"=>\"Harry\", \"occupation\"=>\"magic\"')]"
      ]
     },
     "metadata": {},
     "execution_count": 9
    }
   ],
   "source": [
    "# Query2 - select employer and attr when occupation is magic\n",
    "q = \"\"\"SELECT employer, attr \n",
    "FROM h_dct_prac\n",
    "WHERE attr -> 'occupation' = 'magic';\"\"\"\n",
    "cur.execute(q)\n",
    "cur.fetchall()"
   ]
  },
  {
   "cell_type": "code",
   "execution_count": 10,
   "metadata": {},
   "outputs": [
    {
     "output_type": "execute_result",
     "data": {
      "text/plain": [
       "[('self',)]"
      ]
     },
     "metadata": {},
     "execution_count": 10
    }
   ],
   "source": [
    "# Query3 - select employer when occupation is magic with (@>) operator\n",
    "q = \"\"\"\n",
    "SELECT\n",
    "employer\n",
    "FROM\n",
    "h_dct_prac\n",
    "WHERE\n",
    "attr @> '\"occupation\"=>\"magic\"';\"\"\"\n",
    "cur.execute(q)\n",
    "cur.fetchall()"
   ]
  },
  {
   "cell_type": "code",
   "execution_count": 11,
   "metadata": {},
   "outputs": [
    {
     "output_type": "execute_result",
     "data": {
      "text/plain": [
       "[(['last_name', 'first_name', 'occupation'],),\n",
       " (['last_name', 'first_name', 'occupation'],),\n",
       " (['last_name', 'first_name', 'occupation'],),\n",
       " (['last_name', 'first_name', 'occupation'],)]"
      ]
     },
     "metadata": {},
     "execution_count": 11
    }
   ],
   "source": [
    "# All keys:\n",
    "\n",
    "s='''\n",
    "SELECT\n",
    "akeys (attr)\n",
    "FROM\n",
    "h_dct_prac;\n",
    "'''\n",
    "cur.execute(s)\n",
    "cur.fetchall()\n"
   ]
  },
  {
   "cell_type": "code",
   "execution_count": 12,
   "metadata": {},
   "outputs": [
    {
     "output_type": "execute_result",
     "data": {
      "text/plain": [
       "[(['Wookie', 'Chewie', 'thrill seeker'],),\n",
       " (['Endor', 'Ewok', 'forest dweller'],),\n",
       " (['P', 'Harry', 'magic'],),\n",
       " (['Clause', 'Mr_Santa', 'gift giver'],)]"
      ]
     },
     "metadata": {},
     "execution_count": 12
    }
   ],
   "source": [
    "# All values:\n",
    "s_v='''\n",
    "SELECT\n",
    "avals (attr)\n",
    "FROM\n",
    "h_dct_prac;\n",
    "'''\n",
    "cur.execute(s_v)\n",
    "cur.fetchall()"
   ]
  },
  {
   "source": [
    "# Convert Hstore to Json"
   ],
   "cell_type": "markdown",
   "metadata": {}
  },
  {
   "cell_type": "code",
   "execution_count": 14,
   "metadata": {},
   "outputs": [
    {
     "output_type": "execute_result",
     "data": {
      "text/plain": [
       "[(2,\n",
       "  'Mr Han',\n",
       "  1977,\n",
       "  2019,\n",
       "  '\"last_name\"=>\"Wookie\", \"first_name\"=>\"Chewie\", \"occupation\"=>\"thrill seeker\"'),\n",
       " (3,\n",
       "  'self_empl',\n",
       "  1983,\n",
       "  1985,\n",
       "  '\"last_name\"=>\"Endor\", \"first_name\"=>\"Ewok\", \"occupation\"=>\"forest dweller\"'),\n",
       " (4,\n",
       "  'self',\n",
       "  1999,\n",
       "  2011,\n",
       "  '\"last_name\"=>\"P\", \"first_name\"=>\"Harry\", \"occupation\"=>\"magic\"'),\n",
       " (1,\n",
       "  'everyone',\n",
       "  1677,\n",
       "  2020,\n",
       "  '\"last_name\"=>\"Clause\", \"first_name\"=>\"Mr_Santa\", \"occupation\"=>\"gift giver\"')]"
      ]
     },
     "metadata": {},
     "execution_count": 14
    }
   ],
   "source": [
    "cur.execute('''select * from h_dct_prac''')\n",
    "cur.fetchall()"
   ]
  },
  {
   "cell_type": "code",
   "execution_count": 15,
   "metadata": {},
   "outputs": [
    {
     "output_type": "execute_result",
     "data": {
      "text/plain": [
       "[(2,\n",
       "  'Mr Han',\n",
       "  1977,\n",
       "  2019,\n",
       "  {'last_name': 'Wookie',\n",
       "   'first_name': 'Chewie',\n",
       "   'occupation': 'thrill seeker'}),\n",
       " (3,\n",
       "  'self_empl',\n",
       "  1983,\n",
       "  1985,\n",
       "  {'last_name': 'Endor',\n",
       "   'first_name': 'Ewok',\n",
       "   'occupation': 'forest dweller'}),\n",
       " (4,\n",
       "  'self',\n",
       "  1999,\n",
       "  2011,\n",
       "  {'last_name': 'P', 'first_name': 'Harry', 'occupation': 'magic'}),\n",
       " (1,\n",
       "  'everyone',\n",
       "  1677,\n",
       "  2020,\n",
       "  {'last_name': 'Clause',\n",
       "   'first_name': 'Mr_Santa',\n",
       "   'occupation': 'gift giver'})]"
      ]
     },
     "metadata": {},
     "execution_count": 15
    }
   ],
   "source": [
    "# hstore to json\n",
    "hstore_to_json = \"\"\"\n",
    "ALTER TABLE h_dct_prac ALTER COLUMN attr TYPE jsonb USING CAST(attr AS jsonb)\"\"\"\n",
    "cur.execute(hstore_to_json)\n",
    "\n",
    "cur.execute('''select * from h_dct_prac''')\n",
    "cur.fetchall()"
   ]
  },
  {
   "source": [
    "# Convert Json to Hstore"
   ],
   "cell_type": "markdown",
   "metadata": {}
  },
  {
   "cell_type": "code",
   "execution_count": 17,
   "metadata": {},
   "outputs": [
    {
     "output_type": "execute_result",
     "data": {
      "text/plain": [
       "[(2,\n",
       "  'Mr Han',\n",
       "  1977,\n",
       "  2019,\n",
       "  '\"last_name\"=>\"Wookie\", \"first_name\"=>\"Chewie\", \"occupation\"=>\"thrill seeker\"'),\n",
       " (3,\n",
       "  'self_empl',\n",
       "  1983,\n",
       "  1985,\n",
       "  '\"last_name\"=>\"Endor\", \"first_name\"=>\"Ewok\", \"occupation\"=>\"forest dweller\"'),\n",
       " (4,\n",
       "  'self',\n",
       "  1999,\n",
       "  2011,\n",
       "  '\"last_name\"=>\"P\", \"first_name\"=>\"Harry\", \"occupation\"=>\"magic\"'),\n",
       " (1,\n",
       "  'everyone',\n",
       "  1677,\n",
       "  2020,\n",
       "  '\"last_name\"=>\"Clause\", \"first_name\"=>\"Mr_Santa\", \"occupation\"=>\"gift giver\"')]"
      ]
     },
     "metadata": {},
     "execution_count": 17
    }
   ],
   "source": [
    "def jsonb_to_hstore(cursor):\n",
    "    cursor.execute(\"\"\"\n",
    "            create or replace function simple_jsonb_to_hstore(jdata jsonb)\n",
    "            returns hstore language sql immutable\n",
    "            as $$\n",
    "                select hstore(array_agg(key), array_agg(value))\n",
    "                from jsonb_each_text(jdata)\n",
    "            $$;\"\"\") # column attr has a datatype of hstore\n",
    "\n",
    "# Send the Schema to PSQL\n",
    "with conn.cursor() as cursor:\n",
    "    jsonb_to_hstore(cursor)  \n",
    "\n",
    "to_hstore = \"\"\"ALTER TABLE h_dct_prac ALTER COLUMN attr TYPE hstore USING simple_jsonb_to_hstore(attr);\"\"\"\n",
    "cur.execute(to_hstore)\n",
    "cur.execute('''select * from h_dct_prac''')\n",
    "cur.fetchall()"
   ]
  },
  {
   "cell_type": "code",
   "execution_count": null,
   "metadata": {},
   "outputs": [],
   "source": []
  }
 ]
}