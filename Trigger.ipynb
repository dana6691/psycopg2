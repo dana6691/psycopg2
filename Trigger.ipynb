{
 "metadata": {
  "language_info": {
   "codemirror_mode": {
    "name": "ipython",
    "version": 3
   },
   "file_extension": ".py",
   "mimetype": "text/x-python",
   "name": "python",
   "nbconvert_exporter": "python",
   "pygments_lexer": "ipython3",
   "version": "3.8.6-final"
  },
  "orig_nbformat": 2,
  "kernelspec": {
   "name": "Python 3.8.6 64-bit",
   "display_name": "Python 3.8.6 64-bit",
   "metadata": {
    "interpreter": {
     "hash": "4cd7ab41f5fca4b9b44701077e38c5ffd31fe66a6cab21e0214b68d958d0e462"
    }
   }
  }
 },
 "nbformat": 4,
 "nbformat_minor": 2,
 "cells": [
  {
   "source": [
    "# What is a Trigger?\n",
    "- a function automatically used when a specific event occurs. Event can be INSERT, UPDATE, DELETE, or TRUNCATE. We can put trigger BEFORE or AFTER the event\n",
    "- Useful if you want to keep track of the specific history of data\n",
    "- two types\n",
    "    - row trigger: trigger invoked each row change\n",
    "    - statement trigger: trigger invoked each statement\n",
    "- When can User Defined Functions AKA Stored Procedures be used?\n",
    "    - when you are frequently calling thousands of rows \n",
    "\n",
    "\n",
    "1. create table: cpu_sales_update\n",
    "3. create function: log_sales_data\n",
    "2. create trigger: cpu_sales_update_trigger"
   ],
   "cell_type": "markdown",
   "metadata": {}
  },
  {
   "cell_type": "code",
   "execution_count": 1,
   "metadata": {},
   "outputs": [],
   "source": [
    "import psycopg2           \n",
    "import psycopg2.extras\n",
    "import pandas as pd   \n",
    "import numpy as np\n",
    "import io\n",
    "from faker import Factory,Faker # Create fake data\n",
    "# Import the 'config' function from the config.py file:\n",
    "from config import config\n",
    "\n",
    "\n",
    "# Get the config params\n",
    "params_ = config()\n",
    "# Connect to the Postgres_DB:\n",
    "conn = psycopg2.connect(**params_)\n",
    "# Create new_cursor allowing us to write Python to execute PSQL:\n",
    "cur = conn.cursor()\n",
    "conn.autocommit = True"
   ]
  },
  {
   "cell_type": "code",
   "execution_count": 3,
   "metadata": {},
   "outputs": [],
   "source": [
    "# CREATE TABLE FOR PSQL: cpu_sales_update (used to log updated sales)\n",
    "\n",
    "def create_staging_table(cursor):\n",
    "    cursor.execute(\"\"\"\n",
    "        DROP TABLE IF EXISTS cpu_sales_update;\n",
    "        CREATE UNLOGGED TABLE cpu_sales_update (\n",
    "            changed_on TIMESTAMP(6) NOT NULL,\n",
    "            credit_card         TEXT NOT NULL,\n",
    "            email               TEXT NOT NULL,\n",
    "            first_name          TEXT NOT NULL,\n",
    "            last_name           TEXT NOT NULL,\n",
    "            primary_phone       TEXT NOT NULL,\n",
    "            cpu                 TEXT NOT NULL,\n",
    "            purchase_date       DATE NOT NULL\n",
    "        );\"\"\")\n",
    "    \n",
    "\n",
    "with conn.cursor() as cursor:\n",
    "    create_staging_table(cursor)"
   ]
  },
  {
   "cell_type": "code",
   "execution_count": 4,
   "metadata": {},
   "outputs": [],
   "source": [
    "# Create Function to Log Updated Sales\n",
    "    # Create function: log_sales_data\n",
    "    # What to do when an event occurs\n",
    "def create_log_func(cursor):\n",
    "    cursor.execute(\"\"\"\n",
    "    CREATE OR REPLACE FUNCTION log_sales_data()\n",
    "    RETURNS TRIGGER AS $cpu_sales_update$\n",
    "        BEGIN\n",
    "            --\n",
    "            -- Create a new row in cpu_sales_update, for operation performed on \n",
    "            -- 'ppl_cpu_purchases'. (TG_OP) is used to designate what operation is\n",
    "            -- performed and triggers your 'TRIGGER'\n",
    "\n",
    "            IF (TG_OP = 'DELETE') THEN \n",
    "                INSERT INTO cpu_sales_update SELECT now(), OLD.*;\n",
    "                RETURN OLD;\n",
    "\n",
    "            ELSEIF (TG_OP = 'UPDATE') THEN\n",
    "                INSERT INTO cpu_sales_update SELECT now(),NEW.*;\n",
    "                RETURN NEW;\n",
    "\n",
    "            ELSIF (TG_OP = 'INSERT') THEN\n",
    "                INSERT INTO cpu_sales_update SELECT now(),NEW.*;\n",
    "\n",
    "            END IF;\n",
    "            RETURN NULL; -- result is ignored since this is an AFTER trigger\n",
    "        \n",
    "        END;    \n",
    "    $cpu_sales_update$ LANGUAGE plpgsql;\"\"\")\n",
    "\n",
    "# Send Over for Function which will store trigger information\n",
    "with conn.cursor() as cursor:\n",
    "    create_log_func(cursor)"
   ]
  },
  {
   "cell_type": "code",
   "execution_count": 5,
   "metadata": {},
   "outputs": [
    {
     "output_type": "error",
     "ename": "DuplicateObject",
     "evalue": "trigger \"cpu_sales_update_trigger\" for relation \"ppl_cpu_purchases\" already exists\n",
     "traceback": [
      "\u001b[0;31m---------------------------------------------------------------------------\u001b[0m",
      "\u001b[0;31mDuplicateObject\u001b[0m                           Traceback (most recent call last)",
      "\u001b[0;32m<ipython-input-5-a4a747f00640>\u001b[0m in \u001b[0;36m<module>\u001b[0;34m\u001b[0m\n\u001b[1;32m     12\u001b[0m \u001b[0;31m# Send Trigger to PSQL:\u001b[0m\u001b[0;34m\u001b[0m\u001b[0;34m\u001b[0m\u001b[0;34m\u001b[0m\u001b[0m\n\u001b[1;32m     13\u001b[0m \u001b[0;32mwith\u001b[0m \u001b[0mconn\u001b[0m\u001b[0;34m.\u001b[0m\u001b[0mcursor\u001b[0m\u001b[0;34m(\u001b[0m\u001b[0;34m)\u001b[0m \u001b[0;32mas\u001b[0m \u001b[0mcursor\u001b[0m\u001b[0;34m:\u001b[0m\u001b[0;34m\u001b[0m\u001b[0;34m\u001b[0m\u001b[0m\n\u001b[0;32m---> 14\u001b[0;31m     \u001b[0mtrigger_cpu_sales\u001b[0m\u001b[0;34m(\u001b[0m\u001b[0mcursor\u001b[0m\u001b[0;34m)\u001b[0m\u001b[0;34m\u001b[0m\u001b[0;34m\u001b[0m\u001b[0m\n\u001b[0m",
      "\u001b[0;32m<ipython-input-5-a4a747f00640>\u001b[0m in \u001b[0;36mtrigger_cpu_sales\u001b[0;34m(cursor)\u001b[0m\n\u001b[1;32m      4\u001b[0m \u001b[0;34m\u001b[0m\u001b[0m\n\u001b[1;32m      5\u001b[0m \u001b[0;32mdef\u001b[0m \u001b[0mtrigger_cpu_sales\u001b[0m\u001b[0;34m(\u001b[0m\u001b[0mcursor\u001b[0m\u001b[0;34m)\u001b[0m\u001b[0;34m:\u001b[0m\u001b[0;34m\u001b[0m\u001b[0;34m\u001b[0m\u001b[0m\n\u001b[0;32m----> 6\u001b[0;31m     cursor.execute(\"\"\"\n\u001b[0m\u001b[1;32m      7\u001b[0m     \u001b[0mCREATE\u001b[0m \u001b[0mTRIGGER\u001b[0m \u001b[0mcpu_sales_update_trigger\u001b[0m\u001b[0;34m\u001b[0m\u001b[0;34m\u001b[0m\u001b[0m\n\u001b[1;32m      8\u001b[0m     \u001b[0mAFTER\u001b[0m \u001b[0mINSERT\u001b[0m \u001b[0mOR\u001b[0m \u001b[0mUPDATE\u001b[0m \u001b[0mOR\u001b[0m \u001b[0mDELETE\u001b[0m \u001b[0mON\u001b[0m \u001b[0mppl_cpu_purchases\u001b[0m\u001b[0;34m\u001b[0m\u001b[0;34m\u001b[0m\u001b[0m\n",
      "\u001b[0;31mDuplicateObject\u001b[0m: trigger \"cpu_sales_update_trigger\" for relation \"ppl_cpu_purchases\" already exists\n"
     ]
    }
   ],
   "source": [
    "# Trigger Creation: which will start (AFTER) the event!\n",
    "    # Trigger name: cpu_sales_update_trigger\n",
    "    # trigger When event happened in 'ppl_cpu_purchases' table\n",
    "\n",
    "def trigger_cpu_sales(cursor):\n",
    "    cursor.execute(\"\"\"\n",
    "    CREATE TRIGGER cpu_sales_update_trigger\n",
    "    AFTER INSERT OR UPDATE OR DELETE ON ppl_cpu_purchases\n",
    "    FOR EACH ROW EXECUTE PROCEDURE log_sales_data();\n",
    "    \"\"\")\n",
    "\n",
    "# Send Trigger to PSQL:\n",
    "with conn.cursor() as cursor:\n",
    "    trigger_cpu_sales(cursor)   "
   ]
  },
  {
   "cell_type": "code",
   "execution_count": 6,
   "metadata": {},
   "outputs": [
    {
     "output_type": "execute_result",
     "data": {
      "text/plain": [
       "[(16996,\n",
       "  16977,\n",
       "  0,\n",
       "  'cpu_sales_update_trigger',\n",
       "  16919,\n",
       "  29,\n",
       "  'O',\n",
       "  False,\n",
       "  0,\n",
       "  0,\n",
       "  0,\n",
       "  False,\n",
       "  False,\n",
       "  0,\n",
       "  '',\n",
       "  <memory at 0x11a7c2b80>,\n",
       "  None,\n",
       "  None,\n",
       "  None)]"
      ]
     },
     "metadata": {},
     "execution_count": 6
    }
   ],
   "source": [
    "# All Triggers in Current DB:\n",
    "    # location: postgres/Catalogs/PostgreSQL Catalog (pg_catalog)/Tables/pg_trigger\n",
    "cur.execute('SELECT * FROM pg_trigger;')\n",
    "cur.fetchall()"
   ]
  },
  {
   "cell_type": "code",
   "execution_count": 7,
   "metadata": {},
   "outputs": [
    {
     "output_type": "execute_result",
     "data": {
      "text/plain": [
       "[('cpu_sales_update_trigger',)]"
      ]
     },
     "metadata": {},
     "execution_count": 7
    }
   ],
   "source": [
    "# Find All the Triggers I made on a Specific Table:\n",
    "cur.execute(\"SELECT tgname FROM pg_trigger, \\\n",
    "pg_class WHERE tgrelid=pg_class.oid AND relname='ppl_cpu_purchases';\")\n",
    "\n",
    "cur.fetchall()"
   ]
  },
  {
   "cell_type": "code",
   "execution_count": 8,
   "metadata": {},
   "outputs": [
    {
     "output_type": "execute_result",
     "data": {
      "text/plain": [
       "[(datetime.datetime(2020, 10, 21, 17, 2, 43, 978840),\n",
       "  '9999-9999-9999-9999',\n",
       "  'MrFugu@gmail.com',\n",
       "  'MrFugu',\n",
       "  'DataScience',\n",
       "  '1111111111',\n",
       "  'Intel Core i9-9999K',\n",
       "  datetime.date(2020, 5, 5))]"
      ]
     },
     "metadata": {},
     "execution_count": 8
    }
   ],
   "source": [
    "# Insert\n",
    "cur.execute(\"INSERT INTO ppl_cpu_purchases (credit_card,email,first_name,last_name, \\\n",
    "primary_phone,cpu,purchase_date) VALUES ('9999-9999-9999-9999','MrFugu@gmail.com', \\\n",
    "'MrFugu','DataScience','1111111111', 'Intel Core i9-9999K','2020-05-05')\")\n",
    "\n",
    "# Record of Insert\n",
    "cur.execute('SELECT * FROM cpu_sales_update')\n",
    "cur.fetchall()"
   ]
  },
  {
   "cell_type": "code",
   "execution_count": 9,
   "metadata": {},
   "outputs": [
    {
     "output_type": "execute_result",
     "data": {
      "text/plain": [
       "[(datetime.datetime(2020, 10, 21, 16, 44, 50, 982877),\n",
       "  '9999-9999-9999-9999',\n",
       "  'MrFugu@gmail.com',\n",
       "  'MrFugu',\n",
       "  'DataScience',\n",
       "  '1111111111',\n",
       "  'Intel Core i9-9999K',\n",
       "  datetime.date(2020, 5, 5)),\n",
       " (datetime.datetime(2020, 10, 21, 16, 45, 52, 786513),\n",
       "  '9999-9999-9999-9999',\n",
       "  'MrFugu@gmail.com',\n",
       "  'MrFuguYay',\n",
       "  'DataScience',\n",
       "  '1111111111',\n",
       "  'Intel Core i9-9999K',\n",
       "  datetime.date(2020, 5, 5)),\n",
       " (datetime.datetime(2020, 10, 21, 17, 2, 14, 605130),\n",
       "  '9999-9999-9999-9999',\n",
       "  'MrFugu@gmail.com',\n",
       "  'MrFugu',\n",
       "  'DataScience',\n",
       "  '1111111111',\n",
       "  'Intel Core i9-9999K',\n",
       "  datetime.date(2020, 5, 5)),\n",
       " (datetime.datetime(2020, 10, 21, 17, 2, 16, 661929),\n",
       "  '9999-9999-9999-9999',\n",
       "  'MrFugu@gmail.com',\n",
       "  'MrFuguYay',\n",
       "  'DataScience',\n",
       "  '1111111111',\n",
       "  'Intel Core i9-9999K',\n",
       "  datetime.date(2020, 5, 5))]"
      ]
     },
     "metadata": {},
     "execution_count": 9
    }
   ],
   "source": [
    "# Update \n",
    "cur.execute(\"UPDATE ppl_cpu_purchases SET first_name= 'MrFuguYay' \\\n",
    "WHERE first_name='MrFugu'\")\n",
    "\n",
    "# Record of Insert and Update; cpu_sales_update\n",
    "cur.execute('SELECT * FROM cpu_sales_update')\n",
    "cur.fetchall()"
   ]
  },
  {
   "cell_type": "code",
   "execution_count": 8,
   "metadata": {},
   "outputs": [],
   "source": [
    "# Drop Trigger before you drop table\n",
    "\n",
    "# cur.execute(\"DROP TRIGGER IF EXISTS cpu_sales_update ON ppl_cpu_purchases;\")\n",
    "# cur.execute(\"DROP TABLE IF EXISTS cpu_sales_update;\")"
   ]
  },
  {
   "cell_type": "code",
   "execution_count": null,
   "metadata": {},
   "outputs": [],
   "source": [
    "# Disable Trigger\n",
    "\n",
    "# cur.execute(\"ALTER TABLE cpu_sales_update DISABLE TRIGGER cpu_sales_update_trigger\")\n",
    "# cur.execute(\"ALTER TABLE cpu_sales_update DISABLE TRIGGER ALL\")"
   ]
  }
 ]
}