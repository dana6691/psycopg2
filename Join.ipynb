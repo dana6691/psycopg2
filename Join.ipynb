{
 "metadata": {
  "language_info": {
   "codemirror_mode": {
    "name": "ipython",
    "version": 3
   },
   "file_extension": ".py",
   "mimetype": "text/x-python",
   "name": "python",
   "nbconvert_exporter": "python",
   "pygments_lexer": "ipython3",
   "version": "3.8.6-final"
  },
  "orig_nbformat": 2,
  "kernelspec": {
   "name": "Python 3.8.6 64-bit",
   "display_name": "Python 3.8.6 64-bit",
   "metadata": {
    "interpreter": {
     "hash": "4cd7ab41f5fca4b9b44701077e38c5ffd31fe66a6cab21e0214b68d958d0e462"
    }
   }
  }
 },
 "nbformat": 4,
 "nbformat_minor": 2,
 "cells": [
  {
   "source": [
    "# Join Tables\n",
    "1. Create fake cpu purchase data\n",
    "2. Create fake purchase date data\n",
    "3. Combine two\n",
    "4. Read user.csv data\n",
    "5. Join user Table and combined Table on credit card info\n",
    "\n",
    "- user.csv: fake user information\n",
    "- noindx.csv: remove index column from user.csv == staging_fake_ppl\n",
    "- cpu_purchase.csv: fake purchase information data  == staging_fake_cpu_purchases\n",
    "- ppl_cpu_purchases: joined table"
   ],
   "cell_type": "markdown",
   "metadata": {}
  },
  {
   "cell_type": "code",
   "execution_count": 1,
   "metadata": {},
   "outputs": [],
   "source": [
    "import psycopg2             # python->psql connection\n",
    "import psycopg2.extras\n",
    "import pandas as pd         # create dataframes \n",
    "import numpy as np\n",
    "from faker import Factory,Faker # Create fake data to use for join-tables\n",
    "import io\n",
    "# Import the 'config' function from the config_user_dta.py file:\n",
    "from config import config\n",
    "\n",
    "# Get the config params\n",
    "params_ = config()\n",
    "# Connect to the Postgres_DB:\n",
    "conn = psycopg2.connect(**params_)\n",
    "# Create new_cursor allowing us to write Python to execute PSQL:\n",
    "cur = conn.cursor()\n",
    "conn.autocommit = True"
   ]
  },
  {
   "cell_type": "code",
   "execution_count": 4,
   "metadata": {},
   "outputs": [
    {
     "output_type": "execute_result",
     "data": {
      "text/plain": [
       "['Intel Core i7-4518K',\n",
       " 'AMD Ryzen 4 6578X',\n",
       " 'Intel Core i6-8742K',\n",
       " 'AMD Ryzen 6 2489X',\n",
       " 'Intel Core i5-2743K']"
      ]
     },
     "metadata": {},
     "execution_count": 4
    }
   ],
   "source": [
    "'''\n",
    "Creating Fake CPU's that customers purchased, with country of purchase,linking them \n",
    "for joining tables later by foreign keys.\n",
    "'''\n",
    "fake_data=Faker()\n",
    "\n",
    "cpus=[]\n",
    "for _ in range(len(fake_ppl)//2):# len//2 I want the same length as dataframe, 2 cpu types\n",
    "    cpus.append(fake_data.numerify(text='Intel Core i%-%%##K'))\n",
    "    cpus.append(fake_data.numerify(text='AMD Ryzen % %%##X'))\n",
    "len(cpus)\n",
    "# len(fake_ppl)\n",
    "cpus[:5]"
   ]
  },
  {
   "cell_type": "code",
   "execution_count": 5,
   "metadata": {},
   "outputs": [
    {
     "output_type": "execute_result",
     "data": {
      "text/plain": [
       "[datetime.date(2020, 3, 26),\n",
       " datetime.date(2017, 12, 10),\n",
       " datetime.date(2019, 8, 18),\n",
       " datetime.date(2019, 11, 9),\n",
       " datetime.date(2020, 4, 6),\n",
       " datetime.date(2017, 11, 13)]"
      ]
     },
     "metadata": {},
     "execution_count": 5
    }
   ],
   "source": [
    "# Create List of fake purchase dates:\n",
    "\n",
    "Faker.seed(10)\n",
    "purchase_dates=[] \n",
    "for _ in range(len(fake_ppl)):\n",
    "    purchase_dates.append(fake_data.date_between(start_date='-3y', end_date='today'))\n",
    "    \n",
    "purchase_dates[:6]"
   ]
  },
  {
   "cell_type": "code",
   "execution_count": 6,
   "metadata": {},
   "outputs": [
    {
     "output_type": "execute_result",
     "data": {
      "text/plain": [
       "           credit_card                  cpu purchase_date\n",
       "0  5399-3484-4724-7187  Intel Core i7-4518K    2020-03-26\n",
       "1  1630-5261-6108-7631    AMD Ryzen 4 6578X    2017-12-10\n",
       "2  4435-3866-1076-3595  Intel Core i6-8742K    2019-08-18\n",
       "3  3489-7099-9906-8660    AMD Ryzen 6 2489X    2019-11-09\n",
       "4  8631-4500-5666-1510  Intel Core i5-2743K    2020-04-06"
      ],
      "text/html": "<div>\n<style scoped>\n    .dataframe tbody tr th:only-of-type {\n        vertical-align: middle;\n    }\n\n    .dataframe tbody tr th {\n        vertical-align: top;\n    }\n\n    .dataframe thead th {\n        text-align: right;\n    }\n</style>\n<table border=\"1\" class=\"dataframe\">\n  <thead>\n    <tr style=\"text-align: right;\">\n      <th></th>\n      <th>credit_card</th>\n      <th>cpu</th>\n      <th>purchase_date</th>\n    </tr>\n  </thead>\n  <tbody>\n    <tr>\n      <th>0</th>\n      <td>5399-3484-4724-7187</td>\n      <td>Intel Core i7-4518K</td>\n      <td>2020-03-26</td>\n    </tr>\n    <tr>\n      <th>1</th>\n      <td>1630-5261-6108-7631</td>\n      <td>AMD Ryzen 4 6578X</td>\n      <td>2017-12-10</td>\n    </tr>\n    <tr>\n      <th>2</th>\n      <td>4435-3866-1076-3595</td>\n      <td>Intel Core i6-8742K</td>\n      <td>2019-08-18</td>\n    </tr>\n    <tr>\n      <th>3</th>\n      <td>3489-7099-9906-8660</td>\n      <td>AMD Ryzen 6 2489X</td>\n      <td>2019-11-09</td>\n    </tr>\n    <tr>\n      <th>4</th>\n      <td>8631-4500-5666-1510</td>\n      <td>Intel Core i5-2743K</td>\n      <td>2020-04-06</td>\n    </tr>\n  </tbody>\n</table>\n</div>"
     },
     "metadata": {},
     "execution_count": 6
    }
   ],
   "source": [
    "# Combine tables: 'purchase_dates' and 'cpus' & Save in csv file\n",
    "#Note:Can use np.column_stack instead of zip(),this is mainly for preference and speedup\n",
    "\n",
    "join_table_=pd.DataFrame(np.column_stack([fake_ppl['credit_card'],cpus,purchase_dates]),\n",
    "             columns=['credit_card','cpu','purchase_date'])\n",
    "\n",
    "join_table_.to_csv('data/cpu_purchase.csv',index=False)\n",
    "join_table_.head()"
   ]
  },
  {
   "cell_type": "code",
   "execution_count": 7,
   "metadata": {},
   "outputs": [],
   "source": [
    "\n",
    "# CREATE TABLE: staging_fake_cpu_purchases & staging_fake_ppl\n",
    "\n",
    "def create_staging_table(cursor):\n",
    "    cursor.execute(\"\"\"\n",
    "        DROP TABLE IF EXISTS staging_fake_cpu_purchases;\n",
    "        CREATE UNLOGGED TABLE staging_fake_cpu_purchases (\n",
    "            credit_card      TEXT PRIMARY KEY,\n",
    "            cpu              TEXT,\n",
    "            purchase_date    DATE NOT NULL\n",
    "        );\"\"\")\n",
    "\n",
    "with conn.cursor() as cursor:\n",
    "    create_staging_table(cursor)\n",
    "\n",
    "def create_fake_ppl_table(cursor):\n",
    "    cursor.execute(\"\"\"\n",
    "        DROP TABLE IF EXISTS staging_fake_ppl;\n",
    "        CREATE UNLOGGED TABLE staging_fake_ppl (\n",
    "            credit_card         TEXT PRIMARY KEY,\n",
    "            email               TEXT,\n",
    "            first_name          TEXT,\n",
    "            last_name           TEXT,\n",
    "            primary_phone       TEXT\n",
    "        );\"\"\")\n",
    "\n",
    "with conn.cursor() as cursor:\n",
    "    create_fake_ppl_table(cursor)"
   ]
  },
  {
   "cell_type": "code",
   "execution_count": 8,
   "metadata": {},
   "outputs": [],
   "source": [
    "# Send Python data to PSQL\n",
    "def send_csv_to_psql(connection,csv,table_):\n",
    "    sql = \"COPY %s FROM STDIN WITH CSV HEADER DELIMITER AS ','\"\n",
    "    file = open(csv, \"r\")\n",
    "    table = table_\n",
    "    with connection.cursor() as cur:\n",
    "        cur.execute(\"truncate \" + table + \";\")  # avoiding uploading duplicate data!\n",
    "        cur.copy_expert(sql=sql % table, file=file)\n",
    "        conn.commit()\n",
    "#         cur.close() # Omit these to lines because we don't want to finish connection yet\n",
    "#         conn.close()\n",
    "    return conn.commit()"
   ]
  },
  {
   "cell_type": "code",
   "execution_count": 9,
   "metadata": {},
   "outputs": [],
   "source": [
    "# Sending Fake Purchases to PSQL From Python:\n",
    "send_csv_to_psql(conn,'data/cpu_purchase.csv','staging_fake_cpu_purchases')\n",
    "# Sending Fake People to PSQL FROM Python:\n",
    "send_csv_to_psql(conn,'data/noIndx.csv','staging_fake_ppl')"
   ]
  },
  {
   "cell_type": "code",
   "execution_count": 10,
   "metadata": {},
   "outputs": [
    {
     "output_type": "error",
     "ename": "DuplicateTable",
     "evalue": "relation \"ppl_cpu_purchases\" already exists\n",
     "traceback": [
      "\u001b[0;31m---------------------------------------------------------------------------\u001b[0m",
      "\u001b[0;31mDuplicateTable\u001b[0m                            Traceback (most recent call last)",
      "\u001b[0;32m<ipython-input-10-c1dd23ee11e4>\u001b[0m in \u001b[0;36m<module>\u001b[0;34m\u001b[0m\n\u001b[1;32m      8\u001b[0m ON staging_fake_ppl.credit_card=staging_fake_cpu_purchases.credit_card\"\"\"\n\u001b[1;32m      9\u001b[0m \u001b[0;34m\u001b[0m\u001b[0m\n\u001b[0;32m---> 10\u001b[0;31m \u001b[0mcur\u001b[0m\u001b[0;34m.\u001b[0m\u001b[0mexecute\u001b[0m\u001b[0;34m(\u001b[0m\u001b[0msql_c\u001b[0m\u001b[0;34m)\u001b[0m\u001b[0;34m\u001b[0m\u001b[0;34m\u001b[0m\u001b[0m\n\u001b[0m\u001b[1;32m     11\u001b[0m \u001b[0;31m# cur.fetchone()\u001b[0m\u001b[0;34m\u001b[0m\u001b[0;34m\u001b[0m\u001b[0;34m\u001b[0m\u001b[0m\n",
      "\u001b[0;31mDuplicateTable\u001b[0m: relation \"ppl_cpu_purchases\" already exists\n"
     ]
    }
   ],
   "source": [
    "# Join two tables into a New Table\n",
    "sql_c= \"\"\"CREATE TABLE ppl_cpu_purchases AS \n",
    "SELECT staging_fake_ppl .*,\n",
    "        staging_fake_cpu_purchases.cpu,\n",
    "        staging_fake_cpu_purchases.purchase_date \n",
    "FROM staging_fake_ppl \n",
    "INNER JOIN staging_fake_cpu_purchases \n",
    "ON staging_fake_ppl.credit_card=staging_fake_cpu_purchases.credit_card\"\"\"\n",
    "\n",
    "cur.execute(sql_c)\n",
    "# cur.fetchone()"
   ]
  },
  {
   "cell_type": "code",
   "execution_count": 21,
   "metadata": {},
   "outputs": [
    {
     "output_type": "execute_result",
     "data": {
      "text/plain": [
       "[('5399-3484-4724-7187',\n",
       "  'gso@qiegan.sqe',\n",
       "  'Donyell Ann',\n",
       "  'Ospina',\n",
       "  '5219459148',\n",
       "  'Intel Core i1-9809K',\n",
       "  datetime.date(2020, 3, 26)),\n",
       " ('1630-5261-6108-7631',\n",
       "  'xnji@gfruaxqnvm.fha',\n",
       "  'Bishop',\n",
       "  'Siyed',\n",
       "  '4164254716',\n",
       "  'AMD Ryzen 2 7889X',\n",
       "  datetime.date(2017, 12, 10)),\n",
       " ('4435-3866-1076-3595',\n",
       "  'dvyco@tkzhsop.zxg',\n",
       "  'Connor',\n",
       "  'Powers',\n",
       "  '3627413915',\n",
       "  'Intel Core i1-5459K',\n",
       "  datetime.date(2019, 8, 18))]"
      ]
     },
     "metadata": {},
     "execution_count": 21
    }
   ],
   "source": [
    "sq=\"SELECT * FROM ppl_cpu_purchases LIMIT 3\"\n",
    "cur.execute(sq)\n",
    "cur.fetchall()"
   ]
  }
 ]
}