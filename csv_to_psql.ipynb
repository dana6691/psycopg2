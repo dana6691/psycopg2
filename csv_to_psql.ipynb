{
 "metadata": {
  "language_info": {
   "codemirror_mode": {
    "name": "ipython",
    "version": 3
   },
   "file_extension": ".py",
   "mimetype": "text/x-python",
   "name": "python",
   "nbconvert_exporter": "python",
   "pygments_lexer": "ipython3",
   "version": "3.8.6-final"
  },
  "orig_nbformat": 2,
  "kernelspec": {
   "name": "Python 3.8.6 64-bit",
   "display_name": "Python 3.8.6 64-bit",
   "metadata": {
    "interpreter": {
     "hash": "4cd7ab41f5fca4b9b44701077e38c5ffd31fe66a6cab21e0214b68d958d0e462"
    }
   }
  }
 },
 "nbformat": 4,
 "nbformat_minor": 2,
 "cells": [
  {
   "source": [
    "# .csv to PSQL \n",
    "- connect to the postgreSQL with a .gitignore file to hide your login credentials\n",
    "\n",
    "1) create the initialization file:\n",
    "\n",
    "use your terminal or notepad, unless your favorite editor directly converts to this format .ini file.\n",
    "on Mac\n",
    "touch database_file_init.ini\n",
    "vi database_file.ini \n",
    "[postgresql]\n",
    "host=localhost\n",
    "database=what_databse_you_want_to_access\n",
    "user= some_user_you_created_for_this_user_in_psql\n",
    "password= some_password_you_have_to_this_db\n",
    "------------------------------------------------\n",
    "\n",
    "2) config.py file this will be used to take data from init file and outputs a dictionary.\n",
    "\n",
    "from configparser import ConfigParser\n",
    "\n",
    "def config(filename='database.ini', section='postgresql'):\n",
    "\n",
    "# create a parser\n",
    "parser = ConfigParser()\n",
    "# read config file\n",
    "parser.read(filename)\n",
    "\n",
    "# get section, default to postgresql\n",
    "db = {}\n",
    "\n",
    "# Checks to see if section (postgresql) parser exists\n",
    "if parser.has_section(section):\n",
    "    params = parser.items(section)\n",
    "    for param in params:\n",
    "        db[param[0]] = param[1]\n",
    "\n",
    "# Returns an error if a parameter is called that is not listed in the initialization file\n",
    "else:\n",
    "    raise Exception('Section {0} not found in the {1} file'.format(section, filename))\n",
    "\n",
    "return db\n"
   ],
   "cell_type": "markdown",
   "metadata": {}
  },
  {
   "cell_type": "code",
   "execution_count": 1,
   "metadata": {},
   "outputs": [],
   "source": [
    "import psycopg2             # python->psql connection\n",
    "import psycopg2.extras\n",
    "import pandas as pd         # create dataframes \n",
    "import os                   # fetch files\n",
    "from config import config\n",
    "\n",
    "# Get the config params\n",
    "params_ = config()\n",
    "# Connect to the Postgres_DB:\n",
    "conn = psycopg2.connect(**params_)\n",
    "# Create new_cursor allowing us to write Python to execute PSQL:\n",
    "cur = conn.cursor()\n",
    "conn.autocommit = True"
   ]
  },
  {
   "cell_type": "code",
   "execution_count": null,
   "metadata": {},
   "outputs": [],
   "source": []
  },
  {
   "cell_type": "code",
   "execution_count": 3,
   "metadata": {},
   "outputs": [
    {
     "output_type": "error",
     "ename": "DependentObjectsStillExist",
     "evalue": "cannot drop table staging_fake_ppl because other objects depend on it\nDETAIL:  view customer_cpu_sales depends on table staging_fake_ppl\nHINT:  Use DROP ... CASCADE to drop the dependent objects too.\n",
     "traceback": [
      "\u001b[0;31m---------------------------------------------------------------------------\u001b[0m",
      "\u001b[0;31mDependentObjectsStillExist\u001b[0m                Traceback (most recent call last)",
      "\u001b[0;32m<ipython-input-3-9f694fd179cc>\u001b[0m in \u001b[0;36m<module>\u001b[0;34m\u001b[0m\n\u001b[1;32m     10\u001b[0m         );\"\"\")\n\u001b[1;32m     11\u001b[0m \u001b[0;32mwith\u001b[0m \u001b[0mconn\u001b[0m\u001b[0;34m.\u001b[0m\u001b[0mcursor\u001b[0m\u001b[0;34m(\u001b[0m\u001b[0;34m)\u001b[0m \u001b[0;32mas\u001b[0m \u001b[0mcursor\u001b[0m\u001b[0;34m:\u001b[0m\u001b[0;34m\u001b[0m\u001b[0;34m\u001b[0m\u001b[0m\n\u001b[0;32m---> 12\u001b[0;31m     \u001b[0mcreate_staging_table\u001b[0m\u001b[0;34m(\u001b[0m\u001b[0mcursor\u001b[0m\u001b[0;34m)\u001b[0m\u001b[0;34m\u001b[0m\u001b[0;34m\u001b[0m\u001b[0m\n\u001b[0m",
      "\u001b[0;32m<ipython-input-3-9f694fd179cc>\u001b[0m in \u001b[0;36mcreate_staging_table\u001b[0;34m(cursor)\u001b[0m\n\u001b[1;32m      1\u001b[0m \u001b[0;32mdef\u001b[0m \u001b[0mcreate_staging_table\u001b[0m\u001b[0;34m(\u001b[0m\u001b[0mcursor\u001b[0m\u001b[0;34m)\u001b[0m \u001b[0;34m->\u001b[0m \u001b[0;32mNone\u001b[0m\u001b[0;34m:\u001b[0m\u001b[0;34m\u001b[0m\u001b[0;34m\u001b[0m\u001b[0m\n\u001b[0;32m----> 2\u001b[0;31m     cursor.execute(\"\"\"\n\u001b[0m\u001b[1;32m      3\u001b[0m         \u001b[0mDROP\u001b[0m \u001b[0mTABLE\u001b[0m \u001b[0mIF\u001b[0m \u001b[0mEXISTS\u001b[0m \u001b[0mstaging_fake_ppl\u001b[0m\u001b[0;34m;\u001b[0m\u001b[0;34m\u001b[0m\u001b[0;34m\u001b[0m\u001b[0m\n\u001b[1;32m      4\u001b[0m         CREATE UNLOGGED TABLE staging_fake_ppl (\n\u001b[1;32m      5\u001b[0m             \u001b[0mcredit_card\u001b[0m         \u001b[0mTEXT\u001b[0m\u001b[0;34m,\u001b[0m\u001b[0;34m\u001b[0m\u001b[0;34m\u001b[0m\u001b[0m\n",
      "\u001b[0;31mDependentObjectsStillExist\u001b[0m: cannot drop table staging_fake_ppl because other objects depend on it\nDETAIL:  view customer_cpu_sales depends on table staging_fake_ppl\nHINT:  Use DROP ... CASCADE to drop the dependent objects too.\n"
     ]
    }
   ],
   "source": [
    "def create_staging_table(cursor) -> None:\n",
    "    cursor.execute(\"\"\"\n",
    "        DROP TABLE IF EXISTS staging_fake_ppl;\n",
    "        CREATE UNLOGGED TABLE staging_fake_ppl (\n",
    "            credit_card         TEXT,\n",
    "            email               TEXT,\n",
    "            first_name          TEXT,\n",
    "            last_name           TEXT,\n",
    "            primary_phone       TEXT\n",
    "        );\"\"\")\n",
    "with conn.cursor() as cursor:\n",
    "    create_staging_table(cursor)"
   ]
  },
  {
   "cell_type": "code",
   "execution_count": 3,
   "metadata": {},
   "outputs": [
    {
     "output_type": "execute_result",
     "data": {
      "text/plain": [
       "           credit_card                     email   first_name last_name  \\\n",
       "0  5399-3484-4724-7187            gso@qiegan.sqe  Donyell Ann    Ospina   \n",
       "1  1630-5261-6108-7631       xnji@gfruaxqnvm.fha       Bishop     Siyed   \n",
       "2  4435-3866-1076-3595         dvyco@tkzhsop.zxg       Connor    Powers   \n",
       "3  3489-7099-9906-8660         fy@uvfhplatmz.cam        Kylie       Her   \n",
       "4  8631-4500-5666-1510  rztkvliou@dkeinhgysf.deo      Anthony        Vo   \n",
       "\n",
       "   primary_phone_number  \n",
       "0            5219459148  \n",
       "1            4164254716  \n",
       "2            3627413915  \n",
       "3            3562764561  \n",
       "4            7345795348  "
      ],
      "text/html": "<div>\n<style scoped>\n    .dataframe tbody tr th:only-of-type {\n        vertical-align: middle;\n    }\n\n    .dataframe tbody tr th {\n        vertical-align: top;\n    }\n\n    .dataframe thead th {\n        text-align: right;\n    }\n</style>\n<table border=\"1\" class=\"dataframe\">\n  <thead>\n    <tr style=\"text-align: right;\">\n      <th></th>\n      <th>credit_card</th>\n      <th>email</th>\n      <th>first_name</th>\n      <th>last_name</th>\n      <th>primary_phone_number</th>\n    </tr>\n  </thead>\n  <tbody>\n    <tr>\n      <th>0</th>\n      <td>5399-3484-4724-7187</td>\n      <td>gso@qiegan.sqe</td>\n      <td>Donyell Ann</td>\n      <td>Ospina</td>\n      <td>5219459148</td>\n    </tr>\n    <tr>\n      <th>1</th>\n      <td>1630-5261-6108-7631</td>\n      <td>xnji@gfruaxqnvm.fha</td>\n      <td>Bishop</td>\n      <td>Siyed</td>\n      <td>4164254716</td>\n    </tr>\n    <tr>\n      <th>2</th>\n      <td>4435-3866-1076-3595</td>\n      <td>dvyco@tkzhsop.zxg</td>\n      <td>Connor</td>\n      <td>Powers</td>\n      <td>3627413915</td>\n    </tr>\n    <tr>\n      <th>3</th>\n      <td>3489-7099-9906-8660</td>\n      <td>fy@uvfhplatmz.cam</td>\n      <td>Kylie</td>\n      <td>Her</td>\n      <td>3562764561</td>\n    </tr>\n    <tr>\n      <th>4</th>\n      <td>8631-4500-5666-1510</td>\n      <td>rztkvliou@dkeinhgysf.deo</td>\n      <td>Anthony</td>\n      <td>Vo</td>\n      <td>7345795348</td>\n    </tr>\n  </tbody>\n</table>\n</div>"
     },
     "metadata": {},
     "execution_count": 3
    }
   ],
   "source": [
    "addr_df = pd.read_csv('data/user.csv')\n",
    "\n",
    "addr_=addr_df.iloc[:,1:]\n",
    "addr_.head()"
   ]
  },
  {
   "cell_type": "code",
   "execution_count": 18,
   "metadata": {},
   "outputs": [
    {
     "output_type": "stream",
     "name": "stdout",
     "text": [
      "user.csv\n/Users/daheekim/Desktop/VisualStudio/psycopg2/data\n"
     ]
    },
    {
     "output_type": "execute_result",
     "data": {
      "text/plain": [
       "   row_id          credit_card                     email   first_name  \\\n",
       "0       1  5399-3484-4724-7187            gso@qiegan.sqe  Donyell Ann   \n",
       "1       2  1630-5261-6108-7631       xnji@gfruaxqnvm.fha       Bishop   \n",
       "2       3  4435-3866-1076-3595         dvyco@tkzhsop.zxg       Connor   \n",
       "3       4  3489-7099-9906-8660         fy@uvfhplatmz.cam        Kylie   \n",
       "4       5  8631-4500-5666-1510  rztkvliou@dkeinhgysf.deo      Anthony   \n",
       "\n",
       "  last_name  primary_phone  \n",
       "0    Ospina     5219459148  \n",
       "1     Siyed     4164254716  \n",
       "2    Powers     3627413915  \n",
       "3       Her     3562764561  \n",
       "4        Vo     7345795348  "
      ],
      "text/html": "<div>\n<style scoped>\n    .dataframe tbody tr th:only-of-type {\n        vertical-align: middle;\n    }\n\n    .dataframe tbody tr th {\n        vertical-align: top;\n    }\n\n    .dataframe thead th {\n        text-align: right;\n    }\n</style>\n<table border=\"1\" class=\"dataframe\">\n  <thead>\n    <tr style=\"text-align: right;\">\n      <th></th>\n      <th>row_id</th>\n      <th>credit_card</th>\n      <th>email</th>\n      <th>first_name</th>\n      <th>last_name</th>\n      <th>primary_phone</th>\n    </tr>\n  </thead>\n  <tbody>\n    <tr>\n      <th>0</th>\n      <td>1</td>\n      <td>5399-3484-4724-7187</td>\n      <td>gso@qiegan.sqe</td>\n      <td>Donyell Ann</td>\n      <td>Ospina</td>\n      <td>5219459148</td>\n    </tr>\n    <tr>\n      <th>1</th>\n      <td>2</td>\n      <td>1630-5261-6108-7631</td>\n      <td>xnji@gfruaxqnvm.fha</td>\n      <td>Bishop</td>\n      <td>Siyed</td>\n      <td>4164254716</td>\n    </tr>\n    <tr>\n      <th>2</th>\n      <td>3</td>\n      <td>4435-3866-1076-3595</td>\n      <td>dvyco@tkzhsop.zxg</td>\n      <td>Connor</td>\n      <td>Powers</td>\n      <td>3627413915</td>\n    </tr>\n    <tr>\n      <th>3</th>\n      <td>4</td>\n      <td>3489-7099-9906-8660</td>\n      <td>fy@uvfhplatmz.cam</td>\n      <td>Kylie</td>\n      <td>Her</td>\n      <td>3562764561</td>\n    </tr>\n    <tr>\n      <th>4</th>\n      <td>5</td>\n      <td>8631-4500-5666-1510</td>\n      <td>rztkvliou@dkeinhgysf.deo</td>\n      <td>Anthony</td>\n      <td>Vo</td>\n      <td>7345795348</td>\n    </tr>\n  </tbody>\n</table>\n</div>"
     },
     "metadata": {},
     "execution_count": 18
    }
   ],
   "source": [
    "# #Import csv\n",
    "# def os_dir_search(file):\n",
    "#     u=[]\n",
    "#     for p,n,f in os.walk(os.getcwd()):\n",
    "        \n",
    "#         for a in f:\n",
    "#             a = str(a)\n",
    "#             if a.endswith(file): # can be (.csv) or a file like I did and search \n",
    "#                 print(a)\n",
    "#                 print(p)\n",
    "#                 t=pd.read_csv(p+'/'+file,names=['row_id','credit_card',\n",
    "#                                                 'email','first_name','last_name','primary_phone'],header=0)\n",
    "            \n",
    "#     return t\n",
    "\n",
    "# # need to use (.csv,.png, etc) because it is looking by file type ending\n",
    "\n",
    "\n",
    "# addr_=os_dir_search('user.csv')\n",
    "# addr_.head()"
   ]
  },
  {
   "cell_type": "code",
   "execution_count": 19,
   "metadata": {},
   "outputs": [
    {
     "output_type": "execute_result",
     "data": {
      "text/plain": [
       "[{'row_id': 1,\n",
       "  'credit_card': '5399-3484-4724-7187',\n",
       "  'email': 'gso@qiegan.sqe',\n",
       "  'first_name': 'Donyell Ann',\n",
       "  'last_name': 'Ospina',\n",
       "  'primary_phone': 5219459148},\n",
       " {'row_id': 2,\n",
       "  'credit_card': '1630-5261-6108-7631',\n",
       "  'email': 'xnji@gfruaxqnvm.fha',\n",
       "  'first_name': 'Bishop',\n",
       "  'last_name': 'Siyed',\n",
       "  'primary_phone': 4164254716}]"
      ]
     },
     "metadata": {},
     "execution_count": 19
    }
   ],
   "source": [
    "# csv file to dictionary\n",
    "s_=addr_.to_dict('records')\n",
    "s_[:2]"
   ]
  },
  {
   "cell_type": "code",
   "execution_count": 21,
   "metadata": {},
   "outputs": [],
   "source": [
    "# \n",
    "addr_.to_csv('data/address_Python_convertR.csv',index=False)"
   ]
  },
  {
   "cell_type": "code",
   "execution_count": 10,
   "metadata": {},
   "outputs": [
    {
     "output_type": "execute_result",
     "data": {
      "text/plain": [
       "           credit_card                email   first_name last_name  \\\n",
       "0  5399-3484-4724-7187       gso@qiegan.sqe  Donyell Ann    Ospina   \n",
       "1  1630-5261-6108-7631  xnji@gfruaxqnvm.fha       Bishop     Siyed   \n",
       "2  4435-3866-1076-3595    dvyco@tkzhsop.zxg       Connor    Powers   \n",
       "3  3489-7099-9906-8660    fy@uvfhplatmz.cam        Kylie       Her   \n",
       "\n",
       "  primary_phone  \n",
       "0    5219459148  \n",
       "1    4164254716  \n",
       "2    3627413915  \n",
       "3    3562764561  "
      ],
      "text/html": "<div>\n<style scoped>\n    .dataframe tbody tr th:only-of-type {\n        vertical-align: middle;\n    }\n\n    .dataframe tbody tr th {\n        vertical-align: top;\n    }\n\n    .dataframe thead th {\n        text-align: right;\n    }\n</style>\n<table border=\"1\" class=\"dataframe\">\n  <thead>\n    <tr style=\"text-align: right;\">\n      <th></th>\n      <th>credit_card</th>\n      <th>email</th>\n      <th>first_name</th>\n      <th>last_name</th>\n      <th>primary_phone</th>\n    </tr>\n  </thead>\n  <tbody>\n    <tr>\n      <th>0</th>\n      <td>5399-3484-4724-7187</td>\n      <td>gso@qiegan.sqe</td>\n      <td>Donyell Ann</td>\n      <td>Ospina</td>\n      <td>5219459148</td>\n    </tr>\n    <tr>\n      <th>1</th>\n      <td>1630-5261-6108-7631</td>\n      <td>xnji@gfruaxqnvm.fha</td>\n      <td>Bishop</td>\n      <td>Siyed</td>\n      <td>4164254716</td>\n    </tr>\n    <tr>\n      <th>2</th>\n      <td>4435-3866-1076-3595</td>\n      <td>dvyco@tkzhsop.zxg</td>\n      <td>Connor</td>\n      <td>Powers</td>\n      <td>3627413915</td>\n    </tr>\n    <tr>\n      <th>3</th>\n      <td>3489-7099-9906-8660</td>\n      <td>fy@uvfhplatmz.cam</td>\n      <td>Kylie</td>\n      <td>Her</td>\n      <td>3562764561</td>\n    </tr>\n  </tbody>\n</table>\n</div>"
     },
     "metadata": {},
     "execution_count": 10
    }
   ],
   "source": [
    "# Another way of reading table\n",
    "import pandas.io.sql as sqlio\n",
    "sql = \"select * from staging_fake_ppl limit 4;\"\n",
    "dat = sqlio.read_sql_query(sql, conn)\n",
    "conn = None\n",
    "dat"
   ]
  },
  {
   "cell_type": "code",
   "execution_count": 4,
   "metadata": {},
   "outputs": [],
   "source": [
    "def create_staging_table_(cursor) -> None:\n",
    "    cursor.execute(\"\"\"\n",
    "        DROP TABLE IF EXISTS staging_fake_ppl02;\n",
    "        CREATE UNLOGGED TABLE staging_fake_ppl02 (\n",
    "            credit_card         TEXT,\n",
    "            email               TEXT,\n",
    "            first_name          TEXT,\n",
    "            last_name           TEXT,\n",
    "            primary_phone       TEXT\n",
    "        );\"\"\")\n",
    "\n",
    "conn = psycopg2.connect(**params_)\n",
    "# Create new_cursor allowing us to write Python to execute PSQL:\n",
    "cur = conn.cursor()\n",
    "conn.autocommit = True  # read documentation understanding when to Use & NOT use (TRUE)\n",
    "\n",
    "with conn.cursor() as cursor:\n",
    "    create_staging_table_(cursor)"
   ]
  },
  {
   "cell_type": "code",
   "execution_count": 5,
   "metadata": {},
   "outputs": [],
   "source": [
    "\n",
    "def fcn(df,table,cur):\n",
    "#     df=addr_df_\n",
    "#     table='staging_fake_ppl02'\n",
    "    # df is the dataframe\n",
    "    if len(df) > 0:\n",
    "        df_columns = list(df)\n",
    "        # create (col1,col2,...)\n",
    "        columns = \",\".join(df_columns)\n",
    "\n",
    "        # create VALUES('%s', '%s\",...) one '%s' per column\n",
    "        values = \"VALUES({})\".format(\",\".join([\"%s\" for _ in df_columns])) \n",
    "\n",
    "        #create INSERT INTO table (columns) VALUES('%s',...)\n",
    "        insert_stmt = \"INSERT INTO {} ({}) {}\".format(table,columns,values)\n",
    "        cur.execute(\"truncate \" + table + \";\")  #avoiding uploading duplicate data!\n",
    "        cur = conn.cursor()\n",
    "        psycopg2.extras.execute_batch(cur, insert_stmt, df.values)\n",
    "    conn.commit()"
   ]
  },
  {
   "cell_type": "code",
   "execution_count": 6,
   "metadata": {},
   "outputs": [
    {
     "output_type": "error",
     "ename": "UndefinedColumn",
     "evalue": "column \"primary_phone_number\" of relation \"staging_fake_ppl02\" does not exist\nLINE 1: ...ake_ppl02 (credit_card,email,first_name,last_name,primary_ph...\n                                                             ^\n",
     "traceback": [
      "\u001b[0;31m---------------------------------------------------------------------------\u001b[0m",
      "\u001b[0;31mUndefinedColumn\u001b[0m                           Traceback (most recent call last)",
      "\u001b[0;32m<ipython-input-6-691221f7b9df>\u001b[0m in \u001b[0;36m<module>\u001b[0;34m\u001b[0m\n\u001b[0;32m----> 1\u001b[0;31m \u001b[0mfcn\u001b[0m\u001b[0;34m(\u001b[0m\u001b[0maddr_\u001b[0m\u001b[0;34m,\u001b[0m\u001b[0;34m'staging_fake_ppl02'\u001b[0m\u001b[0;34m,\u001b[0m\u001b[0mcur\u001b[0m\u001b[0;34m)\u001b[0m\u001b[0;34m\u001b[0m\u001b[0;34m\u001b[0m\u001b[0m\n\u001b[0m\u001b[1;32m      2\u001b[0m \u001b[0mcur\u001b[0m\u001b[0;34m.\u001b[0m\u001b[0mclose\u001b[0m\u001b[0;34m(\u001b[0m\u001b[0;34m)\u001b[0m\u001b[0;34m\u001b[0m\u001b[0;34m\u001b[0m\u001b[0m\n\u001b[1;32m      3\u001b[0m \u001b[0mconn\u001b[0m\u001b[0;34m.\u001b[0m\u001b[0mclose\u001b[0m\u001b[0;34m(\u001b[0m\u001b[0;34m)\u001b[0m\u001b[0;34m\u001b[0m\u001b[0;34m\u001b[0m\u001b[0m\n",
      "\u001b[0;32m<ipython-input-5-275ebdb10f5e>\u001b[0m in \u001b[0;36mfcn\u001b[0;34m(df, table, cur)\u001b[0m\n\u001b[1;32m     15\u001b[0m         \u001b[0mcur\u001b[0m\u001b[0;34m.\u001b[0m\u001b[0mexecute\u001b[0m\u001b[0;34m(\u001b[0m\u001b[0;34m\"truncate \"\u001b[0m \u001b[0;34m+\u001b[0m \u001b[0mtable\u001b[0m \u001b[0;34m+\u001b[0m \u001b[0;34m\";\"\u001b[0m\u001b[0;34m)\u001b[0m  \u001b[0;31m#avoiding uploading duplicate data!\u001b[0m\u001b[0;34m\u001b[0m\u001b[0;34m\u001b[0m\u001b[0m\n\u001b[1;32m     16\u001b[0m         \u001b[0mcur\u001b[0m \u001b[0;34m=\u001b[0m \u001b[0mconn\u001b[0m\u001b[0;34m.\u001b[0m\u001b[0mcursor\u001b[0m\u001b[0;34m(\u001b[0m\u001b[0;34m)\u001b[0m\u001b[0;34m\u001b[0m\u001b[0;34m\u001b[0m\u001b[0m\n\u001b[0;32m---> 17\u001b[0;31m         \u001b[0mpsycopg2\u001b[0m\u001b[0;34m.\u001b[0m\u001b[0mextras\u001b[0m\u001b[0;34m.\u001b[0m\u001b[0mexecute_batch\u001b[0m\u001b[0;34m(\u001b[0m\u001b[0mcur\u001b[0m\u001b[0;34m,\u001b[0m \u001b[0minsert_stmt\u001b[0m\u001b[0;34m,\u001b[0m \u001b[0mdf\u001b[0m\u001b[0;34m.\u001b[0m\u001b[0mvalues\u001b[0m\u001b[0;34m)\u001b[0m\u001b[0;34m\u001b[0m\u001b[0;34m\u001b[0m\u001b[0m\n\u001b[0m\u001b[1;32m     18\u001b[0m     \u001b[0mconn\u001b[0m\u001b[0;34m.\u001b[0m\u001b[0mcommit\u001b[0m\u001b[0;34m(\u001b[0m\u001b[0;34m)\u001b[0m\u001b[0;34m\u001b[0m\u001b[0;34m\u001b[0m\u001b[0m\n",
      "\u001b[0;32m/usr/local/Cellar/python@3.8/3.8.6/Frameworks/Python.framework/Versions/3.8/lib/python3.8/site-packages/psycopg2/extras.py\u001b[0m in \u001b[0;36mexecute_batch\u001b[0;34m(cur, sql, argslist, page_size)\u001b[0m\n\u001b[1;32m   1204\u001b[0m     \u001b[0;32mfor\u001b[0m \u001b[0mpage\u001b[0m \u001b[0;32min\u001b[0m \u001b[0m_paginate\u001b[0m\u001b[0;34m(\u001b[0m\u001b[0margslist\u001b[0m\u001b[0;34m,\u001b[0m \u001b[0mpage_size\u001b[0m\u001b[0;34m=\u001b[0m\u001b[0mpage_size\u001b[0m\u001b[0;34m)\u001b[0m\u001b[0;34m:\u001b[0m\u001b[0;34m\u001b[0m\u001b[0;34m\u001b[0m\u001b[0m\n\u001b[1;32m   1205\u001b[0m         \u001b[0msqls\u001b[0m \u001b[0;34m=\u001b[0m \u001b[0;34m[\u001b[0m\u001b[0mcur\u001b[0m\u001b[0;34m.\u001b[0m\u001b[0mmogrify\u001b[0m\u001b[0;34m(\u001b[0m\u001b[0msql\u001b[0m\u001b[0;34m,\u001b[0m \u001b[0margs\u001b[0m\u001b[0;34m)\u001b[0m \u001b[0;32mfor\u001b[0m \u001b[0margs\u001b[0m \u001b[0;32min\u001b[0m \u001b[0mpage\u001b[0m\u001b[0;34m]\u001b[0m\u001b[0;34m\u001b[0m\u001b[0;34m\u001b[0m\u001b[0m\n\u001b[0;32m-> 1206\u001b[0;31m         \u001b[0mcur\u001b[0m\u001b[0;34m.\u001b[0m\u001b[0mexecute\u001b[0m\u001b[0;34m(\u001b[0m\u001b[0;34mb\";\"\u001b[0m\u001b[0;34m.\u001b[0m\u001b[0mjoin\u001b[0m\u001b[0;34m(\u001b[0m\u001b[0msqls\u001b[0m\u001b[0;34m)\u001b[0m\u001b[0;34m)\u001b[0m\u001b[0;34m\u001b[0m\u001b[0;34m\u001b[0m\u001b[0m\n\u001b[0m\u001b[1;32m   1207\u001b[0m \u001b[0;34m\u001b[0m\u001b[0m\n\u001b[1;32m   1208\u001b[0m \u001b[0;34m\u001b[0m\u001b[0m\n",
      "\u001b[0;31mUndefinedColumn\u001b[0m: column \"primary_phone_number\" of relation \"staging_fake_ppl02\" does not exist\nLINE 1: ...ake_ppl02 (credit_card,email,first_name,last_name,primary_ph...\n                                                             ^\n"
     ]
    }
   ],
   "source": [
    "fcn(addr_,'staging_fake_ppl02',cur)\n",
    "cur.close()\n",
    "conn.close()"
   ]
  },
  {
   "source": [],
   "cell_type": "markdown",
   "metadata": {}
  }
 ]
}