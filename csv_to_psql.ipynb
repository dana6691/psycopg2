{
 "metadata": {
  "language_info": {
   "codemirror_mode": {
    "name": "ipython",
    "version": 3
   },
   "file_extension": ".py",
   "mimetype": "text/x-python",
   "name": "python",
   "nbconvert_exporter": "python",
   "pygments_lexer": "ipython3",
   "version": "3.8.6-final"
  },
  "orig_nbformat": 2,
  "kernelspec": {
   "name": "Python 3.8.6 64-bit",
   "display_name": "Python 3.8.6 64-bit",
   "metadata": {
    "interpreter": {
     "hash": "4cd7ab41f5fca4b9b44701077e38c5ffd31fe66a6cab21e0214b68d958d0e462"
    }
   }
  }
 },
 "nbformat": 4,
 "nbformat_minor": 2,
 "cells": [
  {
   "source": [
    "# .csv to PSQL \n",
    "- connect to the postgreSQL with a .gitignore file to hide your login credentials\n",
    "\n",
    "**How to connect**\n",
    " \n",
    "1) create the initialization file:\n",
    "\n",
    "file name: 'database_file.ini'\n",
    "```\n",
    "[postgresql]\n",
    "host=localhost\n",
    "database=what_databse_you_want_to_access\n",
    "user= some_user_you_created_for_this_user_in_psql\n",
    "password= some_password_you_have_to_this_db\n",
    "```\n",
    "\n",
    "2) create .gitignore file<br>\n",
    "    ```touch .gitignore```<br>\n",
    "3) add the database.ini to the .gitignore file<br>\n",
    "3) create config.py file<br>"
   ],
   "cell_type": "markdown",
   "metadata": {}
  },
  {
   "cell_type": "code",
   "execution_count": 1,
   "metadata": {},
   "outputs": [],
   "source": [
    "import psycopg2             # python->psql connection\n",
    "import psycopg2.extras\n",
    "import pandas as pd         # create dataframes \n",
    "import os                   # fetch files\n",
    "from config import config\n",
    "from functools import wraps # decorator/wrapper\n",
    "import time                 # timing operations\n",
    "import memory_profiler      # managing memory usage\n",
    "from memory_profiler import memory_usage\n",
    "\n",
    "\n",
    "# Get the config params\n",
    "params_ = config()\n",
    "# Connect to the Postgres_DB:\n",
    "conn = psycopg2.connect(**params_)\n",
    "# Create new_cursor allowing us to write Python to execute PSQL:\n",
    "cur = conn.cursor()\n",
    "conn.autocommit = True"
   ]
  },
  {
   "source": [
    "# .csv to psql (COPY function)"
   ],
   "cell_type": "markdown",
   "metadata": {}
  },
  {
   "cell_type": "code",
   "execution_count": 2,
   "metadata": {},
   "outputs": [],
   "source": [
    "def create_staging_table_(cursor) -> None:\n",
    "    cursor.execute(\"\"\"\n",
    "        DROP TABLE IF EXISTS staging_fake_ppl;\n",
    "        CREATE UNLOGGED TABLE staging_fake_ppl (\n",
    "            credit_card         TEXT,\n",
    "            email               TEXT,\n",
    "            first_name          TEXT,\n",
    "            last_name           TEXT,\n",
    "            primary_phone  TEXT\n",
    "        );\"\"\")\n",
    "with conn.cursor() as cursor:\n",
    "    create_staging_table_(cursor)"
   ]
  },
  {
   "cell_type": "code",
   "execution_count": 3,
   "metadata": {},
   "outputs": [],
   "source": [
    "def send_csv_to_psql(connection,csv,table_):\n",
    "    sql = \"COPY %s FROM STDIN WITH CSV HEADER DELIMITER AS ','\"\n",
    "    file = open(csv, \"r\")\n",
    "    table = table_\n",
    "    with connection.cursor() as cur:\n",
    "        cur.execute(\"truncate \" + table + \";\")  #avoiding uploading duplicate data!\n",
    "        cur.copy_expert(sql=sql % table, file=file)\n",
    "        conn.commit()\n",
    "#         cur.close()\n",
    "#         conn.close()\n",
    "    return conn.commit()"
   ]
  },
  {
   "cell_type": "code",
   "execution_count": 4,
   "metadata": {},
   "outputs": [],
   "source": [
    "# Remove the first column\n",
    "addr_df = pd.read_csv('data/user.csv')\n",
    "addr_df = addr_df.drop('Unnamed: 0',axis=1)\n",
    "addr_df.to_csv('data/user_cleaned.csv',index=False)\n",
    "\n",
    "send_csv_to_psql(conn,'data/user_cleaned.csv','staging_fake_ppl')"
   ]
  },
  {
   "cell_type": "code",
   "execution_count": 5,
   "metadata": {},
   "outputs": [
    {
     "output_type": "execute_result",
     "data": {
      "text/plain": [
       "           credit_card                email   first_name last_name  \\\n",
       "0  5399-3484-4724-7187       gso@qiegan.sqe  Donyell Ann    Ospina   \n",
       "1  1630-5261-6108-7631  xnji@gfruaxqnvm.fha       Bishop     Siyed   \n",
       "2  4435-3866-1076-3595    dvyco@tkzhsop.zxg       Connor    Powers   \n",
       "3  3489-7099-9906-8660    fy@uvfhplatmz.cam        Kylie       Her   \n",
       "\n",
       "  primary_phone  \n",
       "0    5219459148  \n",
       "1    4164254716  \n",
       "2    3627413915  \n",
       "3    3562764561  "
      ],
      "text/html": "<div>\n<style scoped>\n    .dataframe tbody tr th:only-of-type {\n        vertical-align: middle;\n    }\n\n    .dataframe tbody tr th {\n        vertical-align: top;\n    }\n\n    .dataframe thead th {\n        text-align: right;\n    }\n</style>\n<table border=\"1\" class=\"dataframe\">\n  <thead>\n    <tr style=\"text-align: right;\">\n      <th></th>\n      <th>credit_card</th>\n      <th>email</th>\n      <th>first_name</th>\n      <th>last_name</th>\n      <th>primary_phone</th>\n    </tr>\n  </thead>\n  <tbody>\n    <tr>\n      <th>0</th>\n      <td>5399-3484-4724-7187</td>\n      <td>gso@qiegan.sqe</td>\n      <td>Donyell Ann</td>\n      <td>Ospina</td>\n      <td>5219459148</td>\n    </tr>\n    <tr>\n      <th>1</th>\n      <td>1630-5261-6108-7631</td>\n      <td>xnji@gfruaxqnvm.fha</td>\n      <td>Bishop</td>\n      <td>Siyed</td>\n      <td>4164254716</td>\n    </tr>\n    <tr>\n      <th>2</th>\n      <td>4435-3866-1076-3595</td>\n      <td>dvyco@tkzhsop.zxg</td>\n      <td>Connor</td>\n      <td>Powers</td>\n      <td>3627413915</td>\n    </tr>\n    <tr>\n      <th>3</th>\n      <td>3489-7099-9906-8660</td>\n      <td>fy@uvfhplatmz.cam</td>\n      <td>Kylie</td>\n      <td>Her</td>\n      <td>3562764561</td>\n    </tr>\n  </tbody>\n</table>\n</div>"
     },
     "metadata": {},
     "execution_count": 5
    }
   ],
   "source": [
    "# Another way of reading table\n",
    "import pandas.io.sql as sqlio\n",
    "sql = \"select * from staging_fake_ppl limit 4;\"\n",
    "dat = sqlio.read_sql_query(sql, conn)\n",
    "dat"
   ]
  },
  {
   "source": [
    "# .csv to psql (INSERT INTO function)"
   ],
   "cell_type": "markdown",
   "metadata": {}
  },
  {
   "cell_type": "code",
   "execution_count": 6,
   "metadata": {},
   "outputs": [],
   "source": [
    "def create_staging_table_(cursor) -> None:\n",
    "    cursor.execute(\"\"\"\n",
    "        DROP TABLE IF EXISTS staging_fake_ppl02;\n",
    "        CREATE UNLOGGED TABLE staging_fake_ppl02 (\n",
    "            credit_card         TEXT,\n",
    "            email               TEXT,\n",
    "            first_name          TEXT,\n",
    "            last_name           TEXT,\n",
    "            primary_phone  TEXT\n",
    "        );\"\"\")\n",
    "with conn.cursor() as cursor:\n",
    "    create_staging_table_(cursor)"
   ]
  },
  {
   "cell_type": "code",
   "execution_count": 7,
   "metadata": {},
   "outputs": [],
   "source": [
    "def fcn(df,table,cur):\n",
    "    if len(df) > 0:\n",
    "        df_columns = list(df)\n",
    "        # create (col1,col2,...)\n",
    "        columns = \",\".join(df_columns)\n",
    "        # create VALUES('%s', '%s\",...) \n",
    "        values = \"VALUES({})\".format(\",\".join([\"%s\" for _ in df_columns])) \n",
    "        #create INSERT INTO table (columns) VALUES('%s',...)\n",
    "        insert_stmt = \"INSERT INTO {} ({}) {}\".format(table,columns,values)\n",
    "        cur.execute(\"truncate \" + table + \";\")  #avoiding uploading duplicate data!\n",
    "        cur = conn.cursor()\n",
    "        psycopg2.extras.execute_batch(cur, insert_stmt, df.values)\n",
    "    conn.commit()"
   ]
  },
  {
   "cell_type": "code",
   "execution_count": 8,
   "metadata": {},
   "outputs": [],
   "source": [
    "fcn(addr_df,'staging_fake_ppl02',cur)\n",
    "\n",
    "# Close the cursor and connection to so the server can allocate\n",
    "# bandwidth to other requests\n",
    "# cur.close()\n",
    "# conn.close()"
   ]
  }
 ]
}