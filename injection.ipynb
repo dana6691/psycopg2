{
 "metadata": {
  "language_info": {
   "codemirror_mode": {
    "name": "ipython",
    "version": 3
   },
   "file_extension": ".py",
   "mimetype": "text/x-python",
   "name": "python",
   "nbconvert_exporter": "python",
   "pygments_lexer": "ipython3",
   "version": "3.8.6-final"
  },
  "orig_nbformat": 2,
  "kernelspec": {
   "name": "Python 3.8.6 64-bit",
   "display_name": "Python 3.8.6 64-bit",
   "metadata": {
    "interpreter": {
     "hash": "4cd7ab41f5fca4b9b44701077e38c5ffd31fe66a6cab21e0214b68d958d0e462"
    }
   }
  }
 },
 "nbformat": 4,
 "nbformat_minor": 2,
 "cells": [
  {
   "source": [
    "# SQL Injection"
   ],
   "cell_type": "markdown",
   "metadata": {}
  },
  {
   "cell_type": "code",
   "execution_count": 11,
   "metadata": {},
   "outputs": [],
   "source": [
    "import psycopg2             # python->psql connection\n",
    "import psycopg2.extras\n",
    "import pandas as pd         # create dataframes \n",
    "# Import the 'config' function from the config_user_dta.py file:\n",
    "from config import config\n",
    "\n",
    "# Get the config params\n",
    "params_ = config()\n",
    "# Connect to the Postgres_DB:\n",
    "conn = psycopg2.connect(**params_)\n",
    "# Create new_cursor allowing us to write Python to execute PSQL:\n",
    "cur = conn.cursor()\n",
    "conn.autocommit = True"
   ]
  },
  {
   "cell_type": "code",
   "execution_count": 12,
   "metadata": {},
   "outputs": [],
   "source": [
    "# CREATE TABLE FOR PSQL: staging_fake_ppl\n",
    "\n",
    "def create_staging_table(cursor):\n",
    "    cursor.execute(\"\"\"\n",
    "        DROP TABLE IF EXISTS staging_website_users;\n",
    "        CREATE UNLOGGED TABLE staging_website_users (\n",
    "            user_          varchar(30),\n",
    "            DB_Admin       Boolean\n",
    "        );\"\"\")\n",
    "\n",
    "# Send the Schema to PSQL\n",
    "with conn.cursor() as cursor:\n",
    "    create_staging_table(cursor)\n"
   ]
  },
  {
   "cell_type": "code",
   "execution_count": 13,
   "metadata": {},
   "outputs": [
    {
     "output_type": "execute_result",
     "data": {
      "text/plain": [
       "[('Alf', True), ('Monty', False), ('humpty_dumpty', False), ('yaya123', False)]"
      ]
     },
     "metadata": {},
     "execution_count": 13
    }
   ],
   "source": [
    "# Insert some fake data:\n",
    "sql_=\"\"\"INSERT INTO staging_website_users (user_,DB_Admin) VALUES ('Alf',True),\n",
    "('Monty',False),('humpty_dumpty',False),('yaya123',False);\"\"\"\n",
    "cur.execute(sql_)\n",
    "\n",
    "# verify\n",
    "cur.execute(\"select * from staging_website_users\")\n",
    "cur.fetchall()"
   ]
  },
  {
   "cell_type": "code",
   "execution_count": 14,
   "metadata": {},
   "outputs": [],
   "source": [
    "# BAD EXAMPLE. DON'T DO THIS! \n",
    "def is_admin(username: str):\n",
    "    with conn.cursor() as cursor:\n",
    "        cur.execute(\"\"\"\n",
    "            SELECT\n",
    "                DB_admin\n",
    "            FROM\n",
    "                staging_website_users\n",
    "            WHERE\n",
    "                user_ = '%s'          \n",
    "                                    \n",
    "        \"\"\" % username)               #  this line % and '' in line above: NO NO NO\n",
    "        result = cur.fetchone()\n",
    "\n",
    "    if result is None:\n",
    "        # User does not exist\n",
    "        return False\n",
    "\n",
    "    admin, = result\n",
    "    return admin\n"
   ]
  },
  {
   "cell_type": "code",
   "execution_count": 15,
   "metadata": {},
   "outputs": [
    {
     "output_type": "stream",
     "name": "stdout",
     "text": [
      "True\nFalse\n"
     ]
    }
   ],
   "source": [
    "print(is_admin('Alf'))\n",
    "print(is_admin('yay123'))"
   ]
  },
  {
   "cell_type": "code",
   "execution_count": 16,
   "metadata": {},
   "outputs": [
    {
     "output_type": "stream",
     "name": "stdout",
     "text": [
      "Pirate entered your DB: True\n"
     ]
    }
   ],
   "source": [
    "\n",
    "print('Pirate entered your DB:',is_admin(\"'; select true; --\"))"
   ]
  },
  {
   "source": [
    "# GOOD Example (1)"
   ],
   "cell_type": "markdown",
   "metadata": {}
  },
  {
   "cell_type": "code",
   "execution_count": 17,
   "metadata": {},
   "outputs": [],
   "source": [
    "from psycopg2 import sql #help safely write sql queries, verify you can't put bad stuff!\n",
    "\n",
    "def find_dta(table_name: str, f_name: str,name:str):\n",
    "    with conn.cursor() as cursor:\n",
    "        state_ment = sql.SQL(\"\"\"\n",
    "            SELECT\n",
    "                *\n",
    "            FROM {table_name}\n",
    "                WHERE {f_name}={name}\n",
    "        \"\"\").format(\n",
    "            table_name = sql.Identifier(table_name),\n",
    "            f_name = sql.Identifier(f_name),\n",
    "            name=sql.Literal(name)\n",
    "        )\n",
    "        cur.execute(state_ment)\n",
    "        result = cur.fetchall()\n",
    "\n",
    "    return result"
   ]
  },
  {
   "cell_type": "code",
   "execution_count": 18,
   "metadata": {},
   "outputs": [
    {
     "output_type": "execute_result",
     "data": {
      "text/plain": [
       "           credit_card                     email first_name last_name  \\\n",
       "0  8631-4500-5666-1510  rztkvliou@dkeinhgysf.deo    Anthony        Vo   \n",
       "1  1280-4584-5250-1133   axthrlcob@kdqvoabtw.nmg    Anthony    Henley   \n",
       "2  6921-1083-1797-8702      xzgefkqlh@nhocyb.qwy    Anthony  Hazelman   \n",
       "3  5725-6056-1230-2423                 kj@tr.jdt    Anthony    Garcia   \n",
       "4  8170-8477-1042-3899          rexi@eitlpqv.pce    Anthony     Green   \n",
       "\n",
       "  phone_number  \n",
       "0   7345795348  \n",
       "1   6958349723  \n",
       "2   9315684987  \n",
       "3   7244972846  \n",
       "4   8362748419  "
      ],
      "text/html": "<div>\n<style scoped>\n    .dataframe tbody tr th:only-of-type {\n        vertical-align: middle;\n    }\n\n    .dataframe tbody tr th {\n        vertical-align: top;\n    }\n\n    .dataframe thead th {\n        text-align: right;\n    }\n</style>\n<table border=\"1\" class=\"dataframe\">\n  <thead>\n    <tr style=\"text-align: right;\">\n      <th></th>\n      <th>credit_card</th>\n      <th>email</th>\n      <th>first_name</th>\n      <th>last_name</th>\n      <th>phone_number</th>\n    </tr>\n  </thead>\n  <tbody>\n    <tr>\n      <th>0</th>\n      <td>8631-4500-5666-1510</td>\n      <td>rztkvliou@dkeinhgysf.deo</td>\n      <td>Anthony</td>\n      <td>Vo</td>\n      <td>7345795348</td>\n    </tr>\n    <tr>\n      <th>1</th>\n      <td>1280-4584-5250-1133</td>\n      <td>axthrlcob@kdqvoabtw.nmg</td>\n      <td>Anthony</td>\n      <td>Henley</td>\n      <td>6958349723</td>\n    </tr>\n    <tr>\n      <th>2</th>\n      <td>6921-1083-1797-8702</td>\n      <td>xzgefkqlh@nhocyb.qwy</td>\n      <td>Anthony</td>\n      <td>Hazelman</td>\n      <td>9315684987</td>\n    </tr>\n    <tr>\n      <th>3</th>\n      <td>5725-6056-1230-2423</td>\n      <td>kj@tr.jdt</td>\n      <td>Anthony</td>\n      <td>Garcia</td>\n      <td>7244972846</td>\n    </tr>\n    <tr>\n      <th>4</th>\n      <td>8170-8477-1042-3899</td>\n      <td>rexi@eitlpqv.pce</td>\n      <td>Anthony</td>\n      <td>Green</td>\n      <td>8362748419</td>\n    </tr>\n  </tbody>\n</table>\n</div>"
     },
     "metadata": {},
     "execution_count": 18
    }
   ],
   "source": [
    "pd.DataFrame(find_dta('staging_fake_ppl','first_name','Anthony'),\n",
    "             columns=['credit_card','email',\n",
    "                        'first_name','last_name','phone_number']).head()"
   ]
  },
  {
   "source": [
    "# GOOD Example (2)"
   ],
   "cell_type": "markdown",
   "metadata": {}
  },
  {
   "cell_type": "code",
   "execution_count": 19,
   "metadata": {},
   "outputs": [
    {
     "output_type": "execute_result",
     "data": {
      "text/plain": [
       "           credit_card                     email first_name last_name  \\\n",
       "0  8631-4500-5666-1510  rztkvliou@dkeinhgysf.deo    Anthony        Vo   \n",
       "1  1280-4584-5250-1133   axthrlcob@kdqvoabtw.nmg    Anthony    Henley   \n",
       "2  6921-1083-1797-8702      xzgefkqlh@nhocyb.qwy    Anthony  Hazelman   \n",
       "3  5725-6056-1230-2423                 kj@tr.jdt    Anthony    Garcia   \n",
       "4  8170-8477-1042-3899          rexi@eitlpqv.pce    Anthony     Green   \n",
       "\n",
       "  phone_number  \n",
       "0   7345795348  \n",
       "1   6958349723  \n",
       "2   9315684987  \n",
       "3   7244972846  \n",
       "4   8362748419  "
      ],
      "text/html": "<div>\n<style scoped>\n    .dataframe tbody tr th:only-of-type {\n        vertical-align: middle;\n    }\n\n    .dataframe tbody tr th {\n        vertical-align: top;\n    }\n\n    .dataframe thead th {\n        text-align: right;\n    }\n</style>\n<table border=\"1\" class=\"dataframe\">\n  <thead>\n    <tr style=\"text-align: right;\">\n      <th></th>\n      <th>credit_card</th>\n      <th>email</th>\n      <th>first_name</th>\n      <th>last_name</th>\n      <th>phone_number</th>\n    </tr>\n  </thead>\n  <tbody>\n    <tr>\n      <th>0</th>\n      <td>8631-4500-5666-1510</td>\n      <td>rztkvliou@dkeinhgysf.deo</td>\n      <td>Anthony</td>\n      <td>Vo</td>\n      <td>7345795348</td>\n    </tr>\n    <tr>\n      <th>1</th>\n      <td>1280-4584-5250-1133</td>\n      <td>axthrlcob@kdqvoabtw.nmg</td>\n      <td>Anthony</td>\n      <td>Henley</td>\n      <td>6958349723</td>\n    </tr>\n    <tr>\n      <th>2</th>\n      <td>6921-1083-1797-8702</td>\n      <td>xzgefkqlh@nhocyb.qwy</td>\n      <td>Anthony</td>\n      <td>Hazelman</td>\n      <td>9315684987</td>\n    </tr>\n    <tr>\n      <th>3</th>\n      <td>5725-6056-1230-2423</td>\n      <td>kj@tr.jdt</td>\n      <td>Anthony</td>\n      <td>Garcia</td>\n      <td>7244972846</td>\n    </tr>\n    <tr>\n      <th>4</th>\n      <td>8170-8477-1042-3899</td>\n      <td>rexi@eitlpqv.pce</td>\n      <td>Anthony</td>\n      <td>Green</td>\n      <td>8362748419</td>\n    </tr>\n  </tbody>\n</table>\n</div>"
     },
     "metadata": {},
     "execution_count": 19
    }
   ],
   "source": [
    "# same thing almost:\n",
    "\n",
    "query = sql.SQL(\"select * from {table} where {column_ofInterest} = %s\").format(\n",
    "    table=sql.Identifier('staging_fake_ppl'),\n",
    "    column_ofInterest=sql.Identifier('first_name'))\n",
    "\n",
    "cur.execute(query,('Anthony',))\n",
    "\n",
    "pd.DataFrame(cur.fetchall(),columns=['credit_card','email',\n",
    "                        'first_name','last_name','phone_number']).head()"
   ]
  },
  {
   "source": [
    "go here for an idea: https://portswigger.net/web-security/sql-injection"
   ],
   "cell_type": "markdown",
   "metadata": {}
  }
 ]
}