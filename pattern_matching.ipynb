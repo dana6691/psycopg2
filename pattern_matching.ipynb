{
 "metadata": {
  "language_info": {
   "codemirror_mode": {
    "name": "ipython",
    "version": 3
   },
   "file_extension": ".py",
   "mimetype": "text/x-python",
   "name": "python",
   "nbconvert_exporter": "python",
   "pygments_lexer": "ipython3",
   "version": "3.8.6-final"
  },
  "orig_nbformat": 2,
  "kernelspec": {
   "name": "Python 3.8.6 64-bit",
   "display_name": "Python 3.8.6 64-bit",
   "metadata": {
    "interpreter": {
     "hash": "4cd7ab41f5fca4b9b44701077e38c5ffd31fe66a6cab21e0214b68d958d0e462"
    }
   }
  }
 },
 "nbformat": 4,
 "nbformat_minor": 2,
 "cells": [
  {
   "source": [
    "- pattern matching\n",
    "- fuzzy matching\n",
    "- levenshtein distance"
   ],
   "cell_type": "markdown",
   "metadata": {}
  },
  {
   "cell_type": "code",
   "execution_count": 13,
   "metadata": {},
   "outputs": [],
   "source": [
    "import pandas as pd\n",
    "import psycopg2\n",
    "from psycopg2 import sql # format sql queries with params\n",
    "from config import config\n",
    "\n",
    "# Get the config params\n",
    "params_ = config()\n",
    "# Connect to the Postgres_DB:\n",
    "conn = psycopg2.connect(**params_)\n",
    "# Create new_cursor allowing us to write Python to execute PSQL:\n",
    "cur = conn.cursor()\n",
    "conn.autocommit = True"
   ]
  },
  {
   "cell_type": "code",
   "execution_count": 8,
   "metadata": {},
   "outputs": [
    {
     "output_type": "execute_result",
     "data": {
      "text/plain": [
       "  publish_date data_freq state country        vin         uvc  groupnum  \\\n",
       "0    8/28/2020         D    NT      US  102280487  2019485072      4107   \n",
       "1    8/28/2020         D    NT      US  102298407  2017160869       141   \n",
       "2    8/28/2020         D    NT      US  102633593  2017300901        16   \n",
       "\n",
       "   model_year       make   model  ... num_gears ext_doors       airbags  \\\n",
       "0        2019        Kia    Soul  ...         6         4  Side Curtain   \n",
       "1        2017  Chevrolet  Malibu  ...         6         4  Side Curtain   \n",
       "2        2017       Ford  Fusion  ...         6         4  Side Curtain   \n",
       "\n",
       "        anti_corrosion_warranty               basic_warranty  \\\n",
       "0  5-year/100,000-mile, Limited  5-year/60,000-mile, Limited   \n",
       "1           6-year/100,000-mile  3-year/36,000-mile, Limited   \n",
       "2         5-year/Unlimited-mile           3-year/36,000-mile   \n",
       "\n",
       "             powertrain_warranty  road_assist_warranty  \\\n",
       "0  10-year/100,000-mile, Limited    5-year/60,000-mile   \n",
       "1   5-year/60,000-miles, Limited    5-year/60,000-mile   \n",
       "2             5-year/60,000-mile    5-year/60,000-mile   \n",
       "\n",
       "                                     add_deduct_list  model_number_list  \\\n",
       "0  [{'uoc': '8C', 'name': '18-Inch Wheels', 'xcle...          ['B2522']   \n",
       "1  [{'uoc': '8C', 'name': '18-Inch Wheels', 'xcle...          ['1ZD69']   \n",
       "2  [{'uoc': '8C', 'name': '18-Inch Al Whl', 'xcle...            ['P0H']   \n",
       "\n",
       "   engine_turbocharged  \n",
       "0                  NaN  \n",
       "1           Turbocharg  \n",
       "2                  NaN  \n",
       "\n",
       "[3 rows x 54 columns]"
      ],
      "text/html": "<div>\n<style scoped>\n    .dataframe tbody tr th:only-of-type {\n        vertical-align: middle;\n    }\n\n    .dataframe tbody tr th {\n        vertical-align: top;\n    }\n\n    .dataframe thead th {\n        text-align: right;\n    }\n</style>\n<table border=\"1\" class=\"dataframe\">\n  <thead>\n    <tr style=\"text-align: right;\">\n      <th></th>\n      <th>publish_date</th>\n      <th>data_freq</th>\n      <th>state</th>\n      <th>country</th>\n      <th>vin</th>\n      <th>uvc</th>\n      <th>groupnum</th>\n      <th>model_year</th>\n      <th>make</th>\n      <th>model</th>\n      <th>...</th>\n      <th>num_gears</th>\n      <th>ext_doors</th>\n      <th>airbags</th>\n      <th>anti_corrosion_warranty</th>\n      <th>basic_warranty</th>\n      <th>powertrain_warranty</th>\n      <th>road_assist_warranty</th>\n      <th>add_deduct_list</th>\n      <th>model_number_list</th>\n      <th>engine_turbocharged</th>\n    </tr>\n  </thead>\n  <tbody>\n    <tr>\n      <th>0</th>\n      <td>8/28/2020</td>\n      <td>D</td>\n      <td>NT</td>\n      <td>US</td>\n      <td>102280487</td>\n      <td>2019485072</td>\n      <td>4107</td>\n      <td>2019</td>\n      <td>Kia</td>\n      <td>Soul</td>\n      <td>...</td>\n      <td>6</td>\n      <td>4</td>\n      <td>Side Curtain</td>\n      <td>5-year/100,000-mile, Limited</td>\n      <td>5-year/60,000-mile, Limited</td>\n      <td>10-year/100,000-mile, Limited</td>\n      <td>5-year/60,000-mile</td>\n      <td>[{'uoc': '8C', 'name': '18-Inch Wheels', 'xcle...</td>\n      <td>['B2522']</td>\n      <td>NaN</td>\n    </tr>\n    <tr>\n      <th>1</th>\n      <td>8/28/2020</td>\n      <td>D</td>\n      <td>NT</td>\n      <td>US</td>\n      <td>102298407</td>\n      <td>2017160869</td>\n      <td>141</td>\n      <td>2017</td>\n      <td>Chevrolet</td>\n      <td>Malibu</td>\n      <td>...</td>\n      <td>6</td>\n      <td>4</td>\n      <td>Side Curtain</td>\n      <td>6-year/100,000-mile</td>\n      <td>3-year/36,000-mile, Limited</td>\n      <td>5-year/60,000-miles, Limited</td>\n      <td>5-year/60,000-mile</td>\n      <td>[{'uoc': '8C', 'name': '18-Inch Wheels', 'xcle...</td>\n      <td>['1ZD69']</td>\n      <td>Turbocharg</td>\n    </tr>\n    <tr>\n      <th>2</th>\n      <td>8/28/2020</td>\n      <td>D</td>\n      <td>NT</td>\n      <td>US</td>\n      <td>102633593</td>\n      <td>2017300901</td>\n      <td>16</td>\n      <td>2017</td>\n      <td>Ford</td>\n      <td>Fusion</td>\n      <td>...</td>\n      <td>6</td>\n      <td>4</td>\n      <td>Side Curtain</td>\n      <td>5-year/Unlimited-mile</td>\n      <td>3-year/36,000-mile</td>\n      <td>5-year/60,000-mile</td>\n      <td>5-year/60,000-mile</td>\n      <td>[{'uoc': '8C', 'name': '18-Inch Al Whl', 'xcle...</td>\n      <td>['P0H']</td>\n      <td>NaN</td>\n    </tr>\n  </tbody>\n</table>\n<p>3 rows × 54 columns</p>\n</div>"
     },
     "metadata": {},
     "execution_count": 8
    }
   ],
   "source": [
    "car_dlr_one=pd.read_csv('data/cardealer_add_deduct_list.csv')\n",
    "car_dlr_two=pd.read_csv('data/car_dealer_firstpart.csv')\n",
    "\n",
    "car_dlr_two.head()"
   ]
  },
  {
   "cell_type": "code",
   "execution_count": 9,
   "metadata": {},
   "outputs": [],
   "source": [
    "def create_staging_table(cursor):\n",
    "    cursor.execute(\"\"\"\n",
    "        DROP TABLE IF EXISTS car_dealer_01;\n",
    "        CREATE UNLOGGED TABLE car_dealer_01 (\n",
    "            vin                varchar(30),\n",
    "            idx                int,\n",
    "            model_number_list  text\n",
    "            \n",
    "        );\"\"\")\n",
    "    \n",
    "# Send the Schema to PSQL\n",
    "with conn.cursor() as cursor:\n",
    "    create_staging_table(cursor)"
   ]
  },
  {
   "cell_type": "code",
   "execution_count": 10,
   "metadata": {},
   "outputs": [],
   "source": [
    "def create_staging_table(cursor):\n",
    "    cursor.execute(\"\"\"\n",
    "        DROP TABLE IF EXISTS car_dealer_02;\n",
    "        CREATE UNLOGGED TABLE car_dealer_02 (\n",
    "            publish_date       date,\n",
    "            vin                varchar(30),\n",
    "            make               varchar(30),\n",
    "            model              varchar(30),               \n",
    "            model_year         int \n",
    "        );\"\"\")\n",
    "    \n",
    "# Send the Schema to PSQL\n",
    "with conn.cursor() as cursor:\n",
    "    create_staging_table(cursor)"
   ]
  },
  {
   "source": [
    "# Information_schema"
   ],
   "cell_type": "markdown",
   "metadata": {}
  },
  {
   "cell_type": "code",
   "execution_count": 16,
   "metadata": {},
   "outputs": [
    {
     "output_type": "execute_result",
     "data": {
      "text/plain": [
       "[('car_dealer_02', 'publish_date', 'date'),\n",
       " ('car_dealer_02', 'vin', 'character varying'),\n",
       " ('car_dealer_02', 'make', 'character varying'),\n",
       " ('car_dealer_02', 'model', 'character varying'),\n",
       " ('car_dealer_02', 'model_year', 'integer')]"
      ]
     },
     "metadata": {},
     "execution_count": 16
    }
   ],
   "source": [
    "ss=\"\"\"\n",
    "SELECT table_name, column_name, data_type \n",
    "FROM information_schema.columns \n",
    "WHERE table_name={table_name} ;\n",
    "\"\"\"\n",
    "o = sql.SQL(ss).format(table_name = sql.Literal('car_dealer_02'))\n",
    "cur.execute(o)\n",
    "cur.fetchall()\n"
   ]
  },
  {
   "source": [
    "# Dataframe to PSQL"
   ],
   "cell_type": "markdown",
   "metadata": {}
  },
  {
   "cell_type": "code",
   "execution_count": 18,
   "metadata": {},
   "outputs": [],
   "source": [
    "from psycopg2 import extras\n",
    "\n",
    "\n",
    "def fcn(df,table,cur):\n",
    "#     df=addr_df_\n",
    "#     table='staging_fake_ppl02'\n",
    "    # df is the dataframe\n",
    "    if len(df) > 0:\n",
    "        df_columns = list(df)\n",
    "        # create (col1,col2,...)\n",
    "        columns = \",\".join(df_columns)\n",
    "\n",
    "        # create VALUES('%s', '%s\",...) one '%s' per column\n",
    "        values = \"VALUES({})\".format(\",\".join([\"%s\" for _ in df_columns])) \n",
    "\n",
    "        #create INSERT INTO table (columns) VALUES('%s',...)\n",
    "        insert_stmt = \"INSERT INTO {} ({}) {}\".format(table,columns,values)\n",
    "        cur.execute(\"truncate \" + table + \";\")  #avoiding uploading duplicate data!\n",
    "        cur = conn.cursor()\n",
    "        psycopg2.extras.execute_batch(cur, insert_stmt, df.values)\n",
    "    conn.commit()"
   ]
  },
  {
   "cell_type": "code",
   "execution_count": 22,
   "metadata": {},
   "outputs": [
    {
     "output_type": "execute_result",
     "data": {
      "text/plain": [
       "array([[0, 102280487, \"['B2522']\"],\n",
       "       [0, 102280487, \"['B2522']\"],\n",
       "       [1, 102298407, \"['1ZD69']\"],\n",
       "       [1, 102298407, \"['1ZD69']\"],\n",
       "       [1, 102298407, \"['1ZD69']\"],\n",
       "       [1, 102298407, \"['1ZD69']\"],\n",
       "       [2, 102633593, \"['P0H']\"],\n",
       "       [2, 102633593, \"['P0H']\"],\n",
       "       [2, 102633593, \"['P0H']\"],\n",
       "       [2, 102633593, \"['P0H']\"],\n",
       "       [2, 102633593, \"['P0H']\"],\n",
       "       [2, 102633593, \"['P0H']\"]], dtype=object)"
      ]
     },
     "metadata": {},
     "execution_count": 22
    }
   ],
   "source": [
    "# Select columns\n",
    "car_dlr_subset_01=car_dlr_one.loc[:,['idx','vin','model_number_list']]\n",
    "car_dlr_subset_01.values"
   ]
  },
  {
   "cell_type": "code",
   "execution_count": 23,
   "metadata": {},
   "outputs": [
    {
     "output_type": "execute_result",
     "data": {
      "text/plain": [
       "[('102280487', 0, \"['B2522']\"),\n",
       " ('102280487', 0, \"['B2522']\"),\n",
       " ('102298407', 1, \"['1ZD69']\"),\n",
       " ('102298407', 1, \"['1ZD69']\")]"
      ]
     },
     "metadata": {},
     "execution_count": 23
    }
   ],
   "source": [
    "# Convert Dataframe to PSQL\n",
    "fcn(car_dlr_subset_01,'car_dealer_01',cur)\n",
    "cur.execute(\"select * from car_dealer_01 limit 4\")\n",
    "cur.fetchall()\n"
   ]
  },
  {
   "cell_type": "code",
   "execution_count": 24,
   "metadata": {},
   "outputs": [
    {
     "output_type": "execute_result",
     "data": {
      "text/plain": [
       "[(datetime.date(2020, 8, 28), '102280487', 'Kia', 'Soul', 2019),\n",
       " (datetime.date(2020, 8, 28), '102298407', 'Chevrolet', 'Malibu', 2017),\n",
       " (datetime.date(2020, 8, 28), '102633593', 'Ford', 'Fusion', 2017)]"
      ]
     },
     "metadata": {},
     "execution_count": 24
    }
   ],
   "source": [
    "# Convert Dataframe to PSQL(2)\n",
    "#Insert data\n",
    "car_dlr_subset02=car_dlr_two.loc[:,['publish_date','vin','make','model','model_year']]\n",
    "fcn(car_dlr_subset02,'car_dealer_02',cur)\n",
    "\n",
    "cur.execute(\"select * from car_dealer_02 limit 4\")\n",
    "cur.fetchall()"
   ]
  },
  {
   "source": [
    "# Convert Column Data-type"
   ],
   "cell_type": "markdown",
   "metadata": {}
  },
  {
   "cell_type": "code",
   "execution_count": 26,
   "metadata": {},
   "outputs": [],
   "source": [
    "ww=\"\"\"\n",
    "ALTER TABLE car_dealer_02 ALTER COLUMN vin TYPE integer USING (vin::integer);\n",
    "\"\"\"\n",
    "cur.execute(ww)"
   ]
  },
  {
   "cell_type": "code",
   "execution_count": 27,
   "metadata": {},
   "outputs": [
    {
     "output_type": "execute_result",
     "data": {
      "text/plain": [
       "[('car_dealer_02', 'publish_date', 'date'),\n",
       " ('car_dealer_02', 'vin', 'integer'),\n",
       " ('car_dealer_02', 'make', 'character varying'),\n",
       " ('car_dealer_02', 'model', 'character varying'),\n",
       " ('car_dealer_02', 'model_year', 'integer')]"
      ]
     },
     "metadata": {},
     "execution_count": 27
    }
   ],
   "source": [
    "ss =\"\"\"\n",
    "SELECT table_name, column_name, data_type\n",
    "FROM information_schema.columns\n",
    "WHERE table_name={table_name};\"\"\"\n",
    "\n",
    "o = sql.SQL(ss).format(table_name = sql.Literal('car_dealer_02'))\n",
    "cur.execute(o)\n",
    "cur.fetchall()"
   ]
  },
  {
   "source": [
    "# Convert to lowercase()"
   ],
   "cell_type": "markdown",
   "metadata": {}
  },
  {
   "cell_type": "code",
   "execution_count": 39,
   "metadata": {},
   "outputs": [
    {
     "output_type": "execute_result",
     "data": {
      "text/plain": [
       "  Orginal_FirstName    Converted\n",
       "0       Donyell Ann  donyell ann\n",
       "1            Bishop       bishop\n",
       "2            Connor       connor\n",
       "3             Kylie        kylie"
      ],
      "text/html": "<div>\n<style scoped>\n    .dataframe tbody tr th:only-of-type {\n        vertical-align: middle;\n    }\n\n    .dataframe tbody tr th {\n        vertical-align: top;\n    }\n\n    .dataframe thead th {\n        text-align: right;\n    }\n</style>\n<table border=\"1\" class=\"dataframe\">\n  <thead>\n    <tr style=\"text-align: right;\">\n      <th></th>\n      <th>Orginal_FirstName</th>\n      <th>Converted</th>\n    </tr>\n  </thead>\n  <tbody>\n    <tr>\n      <th>0</th>\n      <td>Donyell Ann</td>\n      <td>donyell ann</td>\n    </tr>\n    <tr>\n      <th>1</th>\n      <td>Bishop</td>\n      <td>bishop</td>\n    </tr>\n    <tr>\n      <th>2</th>\n      <td>Connor</td>\n      <td>connor</td>\n    </tr>\n    <tr>\n      <th>3</th>\n      <td>Kylie</td>\n      <td>kylie</td>\n    </tr>\n  </tbody>\n</table>\n</div>"
     },
     "metadata": {},
     "execution_count": 39
    }
   ],
   "source": [
    "lwrcs='''\n",
    "select first_name,lower(first_name) from staging_fake_ppl limit 4\n",
    "'''\n",
    "\n",
    "cur.execute(lwrcs)\n",
    "pd.DataFrame(cur.fetchall(),columns=['Orginal_FirstName','Converted'])"
   ]
  },
  {
   "source": [
    "# Mogrify\n",
    "- "
   ],
   "cell_type": "markdown",
   "metadata": {}
  },
  {
   "cell_type": "code",
   "execution_count": 28,
   "metadata": {},
   "outputs": [
    {
     "output_type": "stream",
     "name": "stdout",
     "text": [
      "b\"\\nSELECT table_name, column_name, data_type\\nFROM information_schema.columns\\nWHERE table_name='car_dealer_02';\"\n-------------------\nb'\\nALTER TABLE car_dealer_02 ALTER COLUMN vin TYPE integer USING (vin::integer);\\n'\n"
     ]
    }
   ],
   "source": [
    "# good for error checking or how exactly psql are interpreting what you input\n",
    "print(cur.mogrify(o))\n",
    "print('-------------------')\n",
    "print(cur.mogrify(ww))"
   ]
  },
  {
   "source": [
    "# Fuzzy Match\n",
    "- pg_trgm extension: fuzzy string matching\n",
    "    - Find a person but you don't remember the name, only that it is close to Aldo\n",
    "    - Find a person with last name similar to 'Bor'. Confidence > 0.4\n",
    "- fuzzystrmatch extension: convert your string into four letter codes to search"
   ],
   "cell_type": "markdown",
   "metadata": {}
  },
  {
   "source": [
    "# pg_trgm(1)"
   ],
   "cell_type": "markdown",
   "metadata": {}
  },
  {
   "cell_type": "code",
   "execution_count": 29,
   "metadata": {},
   "outputs": [
    {
     "output_type": "execute_result",
     "data": {
      "text/plain": [
       "[('3118-3897-1674-7996', 'ajfeqi@iufeb.efk', 'Alfredo', 'Munoz', '5244214267'),\n",
       " ('9997-7751-7665-6525', 'hfl@bnkxsvp.ufq', 'Ali', 'Borrego', '2493418317'),\n",
       " ('1806-2704-9336-8126', 'swimxj@pjboqc.fow', 'Ali', 'Kouns', '4218255468'),\n",
       " ('2117-2588-7985-4527', 'dxbmswr@o.mlb', 'Alec', 'Johnson', '4259785921'),\n",
       " ('1758-6471-8929-2781', 'ruft@ip.drj', 'Alex', 'Acosta', '8728626214')]"
      ]
     },
     "metadata": {},
     "execution_count": 29
    }
   ],
   "source": [
    "# pg_trgm will allow some fuzzy string matching\n",
    "f = '''\n",
    "CREATE EXTENSION pg_trgm;\n",
    "SELECT * FROM staging_fake_ppl\n",
    "ORDER BY SIMILARITY(first_name, 'Aldo') DESC\n",
    "LIMIT 5;'''\n",
    "cur.execute(f)\n",
    "cur.fetchall()\n",
    "\n",
    "# cur.execute('''Drop extension pg_trgm ''')"
   ]
  },
  {
   "cell_type": "code",
   "execution_count": 34,
   "metadata": {},
   "outputs": [
    {
     "output_type": "execute_result",
     "data": {
      "text/plain": [
       "[('3118-3897-1674-7996', 'ajfeqi@iufeb.efk', 'Alfredo', 'Munoz', '5244214267'),\n",
       " ('9997-7751-7665-6525', 'hfl@bnkxsvp.ufq', 'Ali', 'Borrego', '2493418317'),\n",
       " ('1806-2704-9336-8126', 'swimxj@pjboqc.fow', 'Ali', 'Kouns', '4218255468'),\n",
       " ('2117-2588-7985-4527', 'dxbmswr@o.mlb', 'Alec', 'Johnson', '4259785921'),\n",
       " ('1758-6471-8929-2781', 'ruft@ip.drj', 'Alex', 'Acosta', '8728626214')]"
      ]
     },
     "metadata": {},
     "execution_count": 34
    }
   ],
   "source": [
    "# Alterate way\n",
    "f = sql.SQL('''\n",
    "CREATE EXTENSION IF NOT EXISTS pg_trgm;\n",
    "SELECT * FROM staging_fake_ppl\n",
    "ORDER BY SIMILARITY({first_name},{name})DESC\n",
    "LIMIT 5;''').format(table_ = sql.Identifier('staging_fake_ppl'),\n",
    "                    first_name = sql.Identifier('first_name'),\n",
    "                    name =sql.Literal('Aldo'))\n",
    "cur.execute(f)\n",
    "cur.fetchall()\n",
    "\n",
    "# cur.execute('''Drop extension pg_trgm ''')"
   ]
  },
  {
   "source": [
    "# pg_trgm(2)"
   ],
   "cell_type": "markdown",
   "metadata": {}
  },
  {
   "cell_type": "code",
   "execution_count": 35,
   "metadata": {},
   "outputs": [
    {
     "output_type": "execute_result",
     "data": {
      "text/plain": [
       "[('9538-4639-5634-2281', 'cvjkmi@t.cko', 'Cailinanne', 'Borja', '2968327286'),\n",
       " ('2285-2386-1324-5043', 'idv@pqdvscle.owa', 'Gunnar', 'Borda', '2595211562'),\n",
       " ('2731-8907-1044-6831', 'dstcjoaxw@uer.yef', 'Eric', 'Borom', '5864561645')]"
      ]
     },
     "metadata": {},
     "execution_count": 35
    }
   ],
   "source": [
    "conf='''\n",
    "SELECT * FROM staging_fake_ppl\n",
    "WHERE SIMILARITY(last_name,'Bor') > 0.4 ;\n",
    "\n",
    "'''\n",
    "cur.execute(conf)\n",
    "cur.fetchall()"
   ]
  },
  {
   "cell_type": "code",
   "execution_count": 36,
   "metadata": {},
   "outputs": [
    {
     "output_type": "execute_result",
     "data": {
      "text/plain": [
       "[('9538-4639-5634-2281', 'cvjkmi@t.cko', 'Cailinanne', 'Borja', '2968327286'),\n",
       " ('2285-2386-1324-5043', 'idv@pqdvscle.owa', 'Gunnar', 'Borda', '2595211562'),\n",
       " ('2731-8907-1044-6831', 'dstcjoaxw@uer.yef', 'Eric', 'Borom', '5864561645')]"
      ]
     },
     "metadata": {},
     "execution_count": 36
    }
   ],
   "source": [
    "#Alternative way\n",
    "conf = sql.SQL('''\n",
    "SELECT * FROM {table}\n",
    "WHERE SIMILARITY({column},{name})>0.4;\n",
    "''').format(table = sql.Identifier('staging_fake_ppl'),\n",
    "            column = sql.Identifier('last_name'),\n",
    "            name=sql.Literal('Bor'))\n",
    "cur.execute(conf)\n",
    "cur.fetchall()"
   ]
  },
  {
   "source": [
    "# fuzzystrmatch "
   ],
   "cell_type": "markdown",
   "metadata": {}
  },
  {
   "cell_type": "code",
   "execution_count": 37,
   "metadata": {},
   "outputs": [
    {
     "output_type": "execute_result",
     "data": {
      "text/plain": [
       "[('3388-9288-1720-9622', 'ysbe@ldajvymbqu.nga', 'Diana', 'Song', '6212544297'),\n",
       " ('6496-8623-1961-2916',\n",
       "  'ktoey@vkqwexc.lbh',\n",
       "  'Diana',\n",
       "  'Olvedo Enriquez',\n",
       "  '5234813586'),\n",
       " ('2725-5432-4694-7135', 'ivlm@wbsaim.lnj', 'Don', 'Martinez', '4657397958'),\n",
       " ('1736-4079-2112-1254', 'h@axlkjm.bip', 'Doan', 'Doht', '9416178251'),\n",
       " ('3929-1702-5794-9652', 'kofshc@cquxn.zxn', 'Deion', 'Holm', '4758758462'),\n",
       " ('3970-4084-4226-8551', 'fiw@uhfndrk.ugb', 'Danny', 'John', '2976273517'),\n",
       " ('7592-3801-8837-8387', 'o@bodzfaxin.dtg', 'Deanna', 'Newton', '7311849615'),\n",
       " ('7749-8107-5618-3026', 'ory@vukzhy.tnb', 'Danny', 'el-Zadeh', '6394522678'),\n",
       " ('9134-3311-6532-5063',\n",
       "  'ynfhstlkwi@koayhrmx.kvd',\n",
       "  'Danny',\n",
       "  'Snively',\n",
       "  '3174658291'),\n",
       " ('5067-7345-8241-7248',\n",
       "  'ifshounla@mbkjcvewo.ezt',\n",
       "  'Deeana',\n",
       "  'Crespin',\n",
       "  '6149173275'),\n",
       " ('9202-6310-9015-7438', 'cwxmht@luh.sft', 'Danni', 'Stahl', '9484396785'),\n",
       " ('2762-8722-9883-9155', 'c@rxtzgsemc.mnt', 'Deion', 'Begay', '4921596928'),\n",
       " ('9231-7927-1920-8835', 'mlotjsuy@asy.jou', 'Don', \"O'Leary\", '7567296748'),\n",
       " ('6723-7621-6624-1289', 'wq@imvgrkt.lqn', 'Deanna', 'Norton', '2482866537'),\n",
       " ('8521-1084-7987-1114', 'znki@ickjhb.hoa', 'Doann', 'Harris', '1249783257'),\n",
       " ('1883-6485-1031-9472', 'hivbqcoy@oab.tqs', 'Dayne', 'Lujan', '2157915982'),\n",
       " ('6585-5176-3707-1742', 'ivf@e.lnk', 'Danny', 'el-Rahaim', '8136715294'),\n",
       " ('9748-4413-3091-8704',\n",
       "  'grpifzcyxo@ckr.wgz',\n",
       "  'Dwayne',\n",
       "  'Mirkovic',\n",
       "  '5418919831'),\n",
       " ('4982-4178-1436-2512',\n",
       "  'siak@vnbpxemgj.upz',\n",
       "  'Dana',\n",
       "  'Burrows',\n",
       "  '1451947256'),\n",
       " ('7453-7639-2730-5238', 'ysdl@dbvsygu.xhi', 'Dean', 'Bailey', '6493677629'),\n",
       " ('2204-9798-7824-6987', 'djgo@d.anq', 'Deon', 'Fayne', '5374971924'),\n",
       " ('5783-5073-7137-3802', 'dtpone@pkd.dht', 'Dyon', 'Valdez', '8625724873'),\n",
       " ('8888-5749-6268-6578',\n",
       "  'ibnkwf@xeqocpdaf.cfk',\n",
       "  'Deanna',\n",
       "  'Reeves',\n",
       "  '5496716893'),\n",
       " ('9257-4133-4180-1559', 'o@st.qlm', 'Diana', 'Cooper', '2451961874'),\n",
       " ('4415-3613-9209-8629', 'd@wdubxqj.wnu', 'Dawnee', 'Bell', '7262658462'),\n",
       " ('2949-9047-8614-3987',\n",
       "  'ubplkvmqy@yulwchgpzo.dwa',\n",
       "  'Diana',\n",
       "  'Swain',\n",
       "  '5416728352'),\n",
       " ('5346-1121-9891-9983', 'nglejrdmi@p.cwu', 'Diana', 'Denson', '2458643749'),\n",
       " ('2427-2687-2448-7580',\n",
       "  'vgdksr@rpquvzy.isl',\n",
       "  'Danna',\n",
       "  'Banuelos',\n",
       "  '7539746794'),\n",
       " ('2686-6124-2258-8457', 'xgoj@x.szk', 'Doan', 'Mcelhaney', '4217395693'),\n",
       " ('2287-4320-9747-4519',\n",
       "  'ksbwfzl@lkirfwgby.gry',\n",
       "  'Dana',\n",
       "  'Tidwell',\n",
       "  '7566916584'),\n",
       " ('8949-8499-2385-6993', 'qgfvcpxh@ij.kwf', 'Danny', 'Mosley', '3514618957'),\n",
       " ('9515-1207-2186-9625', 'vsuxgr@ljpe.vsj', 'Dean', 'Martinez', '9763648943'),\n",
       " ('7268-1895-9016-3358', 'wjkydiu@ce.svp', 'Daionah', 'Wilson', '8453487923'),\n",
       " ('5293-4602-5375-6374', 'ajdnh@qwkt.gsp', 'Deanna', 'el-Malek', '9352355684'),\n",
       " ('9387-3205-1073-4022',\n",
       "  'uadvc@ea.bqd',\n",
       "  'Diana',\n",
       "  'Phouansavanh',\n",
       "  '3549232318'),\n",
       " ('6986-8526-2270-6722', 'lcufb@stxu.ctk', 'Danya', 'Vu', '6123986419'),\n",
       " ('5189-5694-8268-7877', 'otn@sp.chm', 'Dena', 'Thomas', '3465686174'),\n",
       " ('8589-3063-1701-4264', 'q@te.rxq', 'Deion', 'Reweti', '7455192894'),\n",
       " ('8498-6247-6538-5878',\n",
       "  'jvowtl@khowards.emg',\n",
       "  'Dianna',\n",
       "  'Escheman',\n",
       "  '3795262193'),\n",
       " ('5790-6241-7514-5057', 'ndrfovqsg@vwbxo.som', 'Deion', 'Finn', '8216492915'),\n",
       " ('8578-8590-2805-7339', 'clbzkyjf@np.nga', 'Diana', 'al-Hai', '9249361532'),\n",
       " ('3768-6351-7486-5822',\n",
       "  'pukhgnal@pgnmcl.ixd',\n",
       "  'Dana',\n",
       "  'Silerio',\n",
       "  '2414254296')]"
      ]
     },
     "metadata": {},
     "execution_count": 37
    }
   ],
   "source": [
    "\n",
    "phone_='''\n",
    "CREATE EXTENSION fuzzystrmatch;\n",
    "SELECT*\n",
    "FROM staging_fake_ppl WHERE\n",
    "SOUNDEX(first_name) = SOUNDEX('Dony A');\n",
    "'''\n",
    "cur.execute(phone_)\n",
    "cur.fetchall()\n",
    "\n",
    "# Drop the extension if not needed anymore:\n",
    "# cur.execute('''drop extension fuzzystrmatch''')"
   ]
  },
  {
   "source": [
    "# Levenshtein Distance"
   ],
   "cell_type": "markdown",
   "metadata": {}
  },
  {
   "cell_type": "code",
   "execution_count": 38,
   "metadata": {},
   "outputs": [
    {
     "output_type": "execute_result",
     "data": {
      "text/plain": [
       "[('2958-5980-8949-4378', 'lrnyj@ianwzptm.vsy', 'Tony', 'Wu', '3948634793', 3),\n",
       " ('8966-6746-2369-5926', 'ln@xsjv.gsq', 'Rony', 'al-Taha', '5236191587', 3),\n",
       " ('2948-8505-3391-2567',\n",
       "  'qoxdjanvfp@xqekfs.pqi',\n",
       "  'Dondre',\n",
       "  'Jaure',\n",
       "  '9589588163',\n",
       "  3),\n",
       " ('2725-5432-4694-7135',\n",
       "  'ivlm@wbsaim.lnj',\n",
       "  'Don',\n",
       "  'Martinez',\n",
       "  '4657397958',\n",
       "  3),\n",
       " ('9231-7927-1920-8835',\n",
       "  'mlotjsuy@asy.jou',\n",
       "  'Don',\n",
       "  \"O'Leary\",\n",
       "  '7567296748',\n",
       "  3)]"
      ]
     },
     "metadata": {},
     "execution_count": 38
    }
   ],
   "source": [
    "levi_='''\n",
    "SELECT *,\n",
    "LEVENSHTEIN(first_name, 'Dony w')\n",
    "FROM staging_fake_ppl\n",
    "ORDER BY LEVENSHTEIN(first_name, 'Dony w') ASC\n",
    "LIMIT 5\n",
    "'''\n",
    "\n",
    "cur.execute(levi_)\n",
    "cur.fetchall()"
   ]
  },
  {
   "source": [
    "# Pattern Matching\n",
    "- find first_name that are either starting with J or G  \n",
    "- find vin numbers that match 102 and convert it to text\n",
    "- find last name with [a letter] + ega\n",
    "\n",
    "\n",
    "https://www.postgresql.org/docs/9.3/functions-matching.html"
   ],
   "cell_type": "markdown",
   "metadata": {}
  },
  {
   "cell_type": "code",
   "execution_count": 40,
   "metadata": {},
   "outputs": [
    {
     "output_type": "execute_result",
     "data": {
      "text/plain": [
       "[('5909-1054-2911-2100',\n",
       "  'nauvojf@tz.mjc',\n",
       "  'Justin',\n",
       "  'al-Yousif',\n",
       "  '9214512756'),\n",
       " ('5027-1684-3271-9573',\n",
       "  'esculkhwaj@lgime.kpd',\n",
       "  'Justin',\n",
       "  'Vigil',\n",
       "  '4639124827'),\n",
       " ('4266-4647-9544-7225', 'bkzy@ozixylp.ixt', 'Jade', 'el-Qadir', '4121832691'),\n",
       " ('5737-9277-9259-1227',\n",
       "  'vpzcje@jhtnqoaire.uag',\n",
       "  'Juan',\n",
       "  'Afuang',\n",
       "  '8574182659'),\n",
       " ('6447-6210-9155-9438',\n",
       "  'lwysbtujna@tsrzhyjm.wyp',\n",
       "  'Joshua',\n",
       "  'Brown',\n",
       "  '3571528429')]"
      ]
     },
     "metadata": {},
     "execution_count": 40
    }
   ],
   "source": [
    "reg = '''\n",
    "SELECT * \n",
    "FROM staging_fake_ppl \n",
    "WHERE first_name ~'^(J|G).*'\n",
    "LIMIT 5;'''\n",
    "cur.execute(reg)\n",
    "cur.fetchall()"
   ]
  },
  {
   "cell_type": "code",
   "execution_count": 48,
   "metadata": {},
   "outputs": [
    {
     "output_type": "execute_result",
     "data": {
      "text/plain": [
       "[(datetime.date(2020, 8, 28), 102280487, 'Kia', 'Soul', 2019),\n",
       " (datetime.date(2020, 8, 28), 102298407, 'Chevrolet', 'Malibu', 2017),\n",
       " (datetime.date(2020, 8, 28), 102633593, 'Ford', 'Fusion', 2017)]"
      ]
     },
     "metadata": {},
     "execution_count": 48
    }
   ],
   "source": [
    "# LIKE 'a%' \n",
    "# LIKE 'abc'\n",
    "# LIKE '_b_'\n",
    "# % operator will match zero or more occurences\n",
    "# _ the underscore will match single characters\n",
    "reg2 = '''\n",
    "SELECT * \n",
    "FROM car_dealer_02 \n",
    "WHERE CAST(vin AS TEXT) LIKE '102%' \n",
    "'''\n",
    "cur.execute(reg2)\n",
    "cur.fetchall()"
   ]
  },
  {
   "cell_type": "code",
   "execution_count": 49,
   "metadata": {},
   "outputs": [
    {
     "output_type": "execute_result",
     "data": {
      "text/plain": [
       "           credit_card                     email  first_name last_name  \\\n",
       "0  1270-8146-6857-9420        pdw@uwarlpyvgj.unh      Umaima     Begay   \n",
       "1  8233-3553-7350-4143         aqucnfhz@vtef.vcu      Santee      Vega   \n",
       "2  6192-4667-4124-8778  woefqdgtmv@pqmxzscfg.svu  Theophilus     Begay   \n",
       "3  7927-4545-1401-6815           hqvixtof@nj.ntf      Jordyn    Begaye   \n",
       "4  2762-8722-9883-9155           c@rxtzgsemc.mnt       Deion     Begay   \n",
       "\n",
       "  primary_phone  \n",
       "0    5129433167  \n",
       "1    4362355976  \n",
       "2    6286151359  \n",
       "3    1258755914  \n",
       "4    4921596928  "
      ],
      "text/html": "<div>\n<style scoped>\n    .dataframe tbody tr th:only-of-type {\n        vertical-align: middle;\n    }\n\n    .dataframe tbody tr th {\n        vertical-align: top;\n    }\n\n    .dataframe thead th {\n        text-align: right;\n    }\n</style>\n<table border=\"1\" class=\"dataframe\">\n  <thead>\n    <tr style=\"text-align: right;\">\n      <th></th>\n      <th>credit_card</th>\n      <th>email</th>\n      <th>first_name</th>\n      <th>last_name</th>\n      <th>primary_phone</th>\n    </tr>\n  </thead>\n  <tbody>\n    <tr>\n      <th>0</th>\n      <td>1270-8146-6857-9420</td>\n      <td>pdw@uwarlpyvgj.unh</td>\n      <td>Umaima</td>\n      <td>Begay</td>\n      <td>5129433167</td>\n    </tr>\n    <tr>\n      <th>1</th>\n      <td>8233-3553-7350-4143</td>\n      <td>aqucnfhz@vtef.vcu</td>\n      <td>Santee</td>\n      <td>Vega</td>\n      <td>4362355976</td>\n    </tr>\n    <tr>\n      <th>2</th>\n      <td>6192-4667-4124-8778</td>\n      <td>woefqdgtmv@pqmxzscfg.svu</td>\n      <td>Theophilus</td>\n      <td>Begay</td>\n      <td>6286151359</td>\n    </tr>\n    <tr>\n      <th>3</th>\n      <td>7927-4545-1401-6815</td>\n      <td>hqvixtof@nj.ntf</td>\n      <td>Jordyn</td>\n      <td>Begaye</td>\n      <td>1258755914</td>\n    </tr>\n    <tr>\n      <th>4</th>\n      <td>2762-8722-9883-9155</td>\n      <td>c@rxtzgsemc.mnt</td>\n      <td>Deion</td>\n      <td>Begay</td>\n      <td>4921596928</td>\n    </tr>\n  </tbody>\n</table>\n</div>"
     },
     "metadata": {},
     "execution_count": 49
    }
   ],
   "source": [
    "lk_='''\n",
    "select * from staging_fake_ppl where last_name like '_ega%'\n",
    "\n",
    "'''\n",
    "cur.execute(lk_)\n",
    "df_=cur.fetchall()\n",
    "             \n",
    "# Get the Column Names:\n",
    "cur.execute(\"Select * FROM staging_fake_ppl LIMIT 0\")\n",
    "colnames = [desc[0] for desc in cur.description]\n",
    "\n",
    "pd.DataFrame(df_,columns=colnames).head()"
   ]
  },
  {
   "source": [
    "psql shorcuts\n",
    "\n",
    "https://www.postgresqltutorial.com/psql-commands/\n",
    "\n",
    "Casting\n",
    "\n",
    "https://www.postgresqltutorial.com/postgresql-cast/\n",
    "\n",
    "https://stackoverflow.com/questions/56260366/insert-into-table-with-type-casting-and-condition-in-insert-statement\n",
    "\n",
    "https://joshuaotwell.com/copy-and-cast-bulk-uploads-in-postgresql/\n",
    "\n",
    "DATA Load\n",
    "\n",
    "http://www.postgis.us/presentations/PGOpen2018_data_loading.pdf\n",
    "\n"
   ],
   "cell_type": "markdown",
   "metadata": {}
  }
 ]
}