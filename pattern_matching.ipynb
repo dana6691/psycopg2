{
 "metadata": {
  "language_info": {
   "codemirror_mode": {
    "name": "ipython",
    "version": 3
   },
   "file_extension": ".py",
   "mimetype": "text/x-python",
   "name": "python",
   "nbconvert_exporter": "python",
   "pygments_lexer": "ipython3",
   "version": "3.8.6-final"
  },
  "orig_nbformat": 2,
  "kernelspec": {
   "name": "Python 3.8.6 64-bit",
   "display_name": "Python 3.8.6 64-bit",
   "metadata": {
    "interpreter": {
     "hash": "4cd7ab41f5fca4b9b44701077e38c5ffd31fe66a6cab21e0214b68d958d0e462"
    }
   }
  }
 },
 "nbformat": 4,
 "nbformat_minor": 2,
 "cells": [
  {
   "cell_type": "code",
   "execution_count": null,
   "metadata": {},
   "outputs": [],
   "source": []
  },
  {
   "cell_type": "code",
   "execution_count": 1,
   "metadata": {},
   "outputs": [],
   "source": [
    "import psycopg2             # python->psql connection\n",
    "import psycopg2.extras\n",
    "import pandas as pd         # create dataframes \n",
    "from config import config\n",
    "\n",
    "# Get the config params\n",
    "params_ = config()\n",
    "# Connect to the Postgres_DB:\n",
    "conn = psycopg2.connect(**params_)\n",
    "# Create new_cursor allowing us to write Python to execute PSQL:\n",
    "cur = conn.cursor()\n",
    "conn.autocommit = True"
   ]
  },
  {
   "cell_type": "code",
   "execution_count": 5,
   "metadata": {},
   "outputs": [
    {
     "output_type": "execute_result",
     "data": {
      "text/plain": [
       "   idx        vin model_number_list add_deduct_list.uoc add_deduct_list.name  \\\n",
       "0    0  102280487         ['B2522']                  8C       18-Inch Wheels   \n",
       "1    0  102280487         ['B2522']                  W2            Primo Pkg   \n",
       "2    1  102298407         ['1ZD69']                  8C       18-Inch Wheels   \n",
       "3    1  102298407         ['1ZD69']                  N5    Navigation System   \n",
       "4    1  102298407         ['1ZD69']                  12              Sunroof   \n",
       "\n",
       "   add_deduct_list.xclean  add_deduct_list.clean  add_deduct_list.avg  \\\n",
       "0                     350                    350                  350   \n",
       "1                    1600                   1600                 1600   \n",
       "2                     225                    225                  225   \n",
       "3                     500                    500                  500   \n",
       "4                     600                    600                  600   \n",
       "\n",
       "   add_deduct_list.rough add_deduct_list.auto  add_deduct_list.resid12  \\\n",
       "0                    350                    N                      300   \n",
       "1                   1600                    N                     1500   \n",
       "2                    225                    N                      200   \n",
       "3                    500                    N                      450   \n",
       "4                    600                    N                      550   \n",
       "\n",
       "   add_deduct_list.resid24  add_deduct_list.resid30  add_deduct_list.resid36  \\\n",
       "0                      250                      225                      200   \n",
       "1                     1400                     1350                     1300   \n",
       "2                      175                      150                      150   \n",
       "3                      400                      375                      350   \n",
       "4                      500                      475                      450   \n",
       "\n",
       "   add_deduct_list.resid42  add_deduct_list.resid48  add_deduct_list.resid60  \\\n",
       "0                      175                      150                      100   \n",
       "1                     1250                     1200                     1100   \n",
       "2                      125                      125                      100   \n",
       "3                      325                      300                      250   \n",
       "4                      425                      400                      350   \n",
       "\n",
       "   add_deduct_list.resid72  \n",
       "0                       50  \n",
       "1                     1000  \n",
       "2                      100  \n",
       "3                      200  \n",
       "4                      300  "
      ],
      "text/html": "<div>\n<style scoped>\n    .dataframe tbody tr th:only-of-type {\n        vertical-align: middle;\n    }\n\n    .dataframe tbody tr th {\n        vertical-align: top;\n    }\n\n    .dataframe thead th {\n        text-align: right;\n    }\n</style>\n<table border=\"1\" class=\"dataframe\">\n  <thead>\n    <tr style=\"text-align: right;\">\n      <th></th>\n      <th>idx</th>\n      <th>vin</th>\n      <th>model_number_list</th>\n      <th>add_deduct_list.uoc</th>\n      <th>add_deduct_list.name</th>\n      <th>add_deduct_list.xclean</th>\n      <th>add_deduct_list.clean</th>\n      <th>add_deduct_list.avg</th>\n      <th>add_deduct_list.rough</th>\n      <th>add_deduct_list.auto</th>\n      <th>add_deduct_list.resid12</th>\n      <th>add_deduct_list.resid24</th>\n      <th>add_deduct_list.resid30</th>\n      <th>add_deduct_list.resid36</th>\n      <th>add_deduct_list.resid42</th>\n      <th>add_deduct_list.resid48</th>\n      <th>add_deduct_list.resid60</th>\n      <th>add_deduct_list.resid72</th>\n    </tr>\n  </thead>\n  <tbody>\n    <tr>\n      <th>0</th>\n      <td>0</td>\n      <td>102280487</td>\n      <td>['B2522']</td>\n      <td>8C</td>\n      <td>18-Inch Wheels</td>\n      <td>350</td>\n      <td>350</td>\n      <td>350</td>\n      <td>350</td>\n      <td>N</td>\n      <td>300</td>\n      <td>250</td>\n      <td>225</td>\n      <td>200</td>\n      <td>175</td>\n      <td>150</td>\n      <td>100</td>\n      <td>50</td>\n    </tr>\n    <tr>\n      <th>1</th>\n      <td>0</td>\n      <td>102280487</td>\n      <td>['B2522']</td>\n      <td>W2</td>\n      <td>Primo Pkg</td>\n      <td>1600</td>\n      <td>1600</td>\n      <td>1600</td>\n      <td>1600</td>\n      <td>N</td>\n      <td>1500</td>\n      <td>1400</td>\n      <td>1350</td>\n      <td>1300</td>\n      <td>1250</td>\n      <td>1200</td>\n      <td>1100</td>\n      <td>1000</td>\n    </tr>\n    <tr>\n      <th>2</th>\n      <td>1</td>\n      <td>102298407</td>\n      <td>['1ZD69']</td>\n      <td>8C</td>\n      <td>18-Inch Wheels</td>\n      <td>225</td>\n      <td>225</td>\n      <td>225</td>\n      <td>225</td>\n      <td>N</td>\n      <td>200</td>\n      <td>175</td>\n      <td>150</td>\n      <td>150</td>\n      <td>125</td>\n      <td>125</td>\n      <td>100</td>\n      <td>100</td>\n    </tr>\n    <tr>\n      <th>3</th>\n      <td>1</td>\n      <td>102298407</td>\n      <td>['1ZD69']</td>\n      <td>N5</td>\n      <td>Navigation System</td>\n      <td>500</td>\n      <td>500</td>\n      <td>500</td>\n      <td>500</td>\n      <td>N</td>\n      <td>450</td>\n      <td>400</td>\n      <td>375</td>\n      <td>350</td>\n      <td>325</td>\n      <td>300</td>\n      <td>250</td>\n      <td>200</td>\n    </tr>\n    <tr>\n      <th>4</th>\n      <td>1</td>\n      <td>102298407</td>\n      <td>['1ZD69']</td>\n      <td>12</td>\n      <td>Sunroof</td>\n      <td>600</td>\n      <td>600</td>\n      <td>600</td>\n      <td>600</td>\n      <td>N</td>\n      <td>550</td>\n      <td>500</td>\n      <td>475</td>\n      <td>450</td>\n      <td>425</td>\n      <td>400</td>\n      <td>350</td>\n      <td>300</td>\n    </tr>\n  </tbody>\n</table>\n</div>"
     },
     "metadata": {},
     "execution_count": 5
    }
   ],
   "source": [
    "car_dlr_one=pd.read_csv('data/cardealer_add_deduct_list.csv')\n",
    "car_dlr_two=pd.read_csv('data/car_dealer_firstpart.csv')\n",
    "\n",
    "car_dlr_one.head()"
   ]
  },
  {
   "cell_type": "code",
   "execution_count": null,
   "metadata": {},
   "outputs": [],
   "source": []
  }
 ]
}