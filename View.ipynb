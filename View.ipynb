{
 "metadata": {
  "language_info": {
   "codemirror_mode": {
    "name": "ipython",
    "version": 3
   },
   "file_extension": ".py",
   "mimetype": "text/x-python",
   "name": "python",
   "nbconvert_exporter": "python",
   "pygments_lexer": "ipython3",
   "version": "3.8.6-final"
  },
  "orig_nbformat": 2,
  "kernelspec": {
   "name": "Python 3.8.6 64-bit",
   "display_name": "Python 3.8.6 64-bit",
   "metadata": {
    "interpreter": {
     "hash": "4cd7ab41f5fca4b9b44701077e38c5ffd31fe66a6cab21e0214b68d958d0e462"
    }
   }
  }
 },
 "nbformat": 4,
 "nbformat_minor": 2,
 "cells": [
  {
   "source": [
    "# What is a View?\n",
    "- it is not a real table but a database object that stores a query.\n",
    "- representation of your data, does not store anything unless you are using a 'materialized view'.\n",
    "- can be used for subsetting data, joining multiple tables, even granting permissions are an option\n",
    "\n",
    "++materialized views: very fast lookups and often used in data-warehousing \n",
    "++ you cannot used CREATE VIEW IF NOT EXISTS, use instead CREATE OR REPLACE VIEW"
   ],
   "cell_type": "markdown",
   "metadata": {}
  },
  {
   "cell_type": "code",
   "execution_count": 6,
   "metadata": {},
   "outputs": [],
   "source": [
    "import psycopg2           \n",
    "import pandas as pd   \n",
    "import seaborn as sns\n",
    "from config import config# Import the 'config' function from the config.py file:\n",
    "\n",
    "# Get the config params\n",
    "params_ = config()\n",
    "# Connect to the Postgres_DB:\n",
    "conn = psycopg2.connect(**params_)\n",
    "# Create new_cursor allowing us to write Python to execute PSQL:\n",
    "cur = conn.cursor()\n",
    "conn.autocommit = True"
   ]
  },
  {
   "cell_type": "code",
   "execution_count": 7,
   "metadata": {},
   "outputs": [
    {
     "output_type": "execute_result",
     "data": {
      "text/plain": [
       "[('5399-3484-4724-7187',\n",
       "  'gso@qiegan.sqe',\n",
       "  'Donyell Ann',\n",
       "  'Ospina',\n",
       "  '5219459148',\n",
       "  'Intel Core i1-9809K',\n",
       "  datetime.date(2020, 3, 26)),\n",
       " ('1630-5261-6108-7631',\n",
       "  'xnji@gfruaxqnvm.fha',\n",
       "  'Bishop',\n",
       "  'Siyed',\n",
       "  '4164254716',\n",
       "  'AMD Ryzen 2 7889X',\n",
       "  datetime.date(2017, 12, 10))]"
      ]
     },
     "metadata": {},
     "execution_count": 7
    }
   ],
   "source": [
    "sql_=\"SELECT * FROM  ppl_cpu_purchases LIMIT 2\"\n",
    "cur.execute(sql_)\n",
    "cur.fetchall()\n",
    "\n",
    "# pd.DataFrame(cur.fetchall(),columns=['credit_card','email','first_name','last_name',\n",
    "# 'primary_phone','cpu','purchase_date'])"
   ]
  },
  {
   "source": [
    "View  1<br>\n",
    "- showing first,last name with credit card number and the cpu with purchase date"
   ],
   "cell_type": "markdown",
   "metadata": {}
  },
  {
   "cell_type": "code",
   "execution_count": 32,
   "metadata": {},
   "outputs": [],
   "source": [
    "# Create View\n",
    "sql_view=\"\"\" CREATE VIEW customer_cpu_sales AS\n",
    "SELECT staging_fake_ppl.first_name || ' ' || staging_fake_ppl.last_name AS full_name, staging_fake_ppl.credit_card AS card,\n",
    "staging_fake_cpu_purchases.cpu,staging_fake_cpu_purchases.purchase_date\n",
    "FROM staging_fake_cpu_purchases \n",
    "INNER JOIN staging_fake_ppl \n",
    "ON staging_fake_ppl.credit_card=staging_fake_cpu_purchases.credit_card\"\"\"\n",
    "\n",
    "cur.execute(sql_view)"
   ]
  },
  {
   "cell_type": "code",
   "execution_count": 33,
   "metadata": {},
   "outputs": [
    {
     "output_type": "execute_result",
     "data": {
      "text/plain": [
       "[('Nasreen Angel',\n",
       "  '1000-1293-3496-7245',\n",
       "  'AMD Ryzen 5 8206X',\n",
       "  datetime.date(2018, 10, 21)),\n",
       " ('Qirsten el-Azimi',\n",
       "  '1000-7698-8868-7669',\n",
       "  'Intel Core i2-4914K',\n",
       "  datetime.date(2020, 8, 3)),\n",
       " ('Alejandro Batchelor',\n",
       "  '1002-7633-3301-5737',\n",
       "  'Intel Core i3-6772K',\n",
       "  datetime.date(2018, 3, 12)),\n",
       " ('Gabriel Salazar',\n",
       "  '1003-1072-2532-5536',\n",
       "  'AMD Ryzen 8 3128X',\n",
       "  datetime.date(2020, 10, 17))]"
      ]
     },
     "metadata": {},
     "execution_count": 33
    }
   ],
   "source": [
    "# QUERY OUR first VIEW:\n",
    "\n",
    "s = \"SELECT * FROM customer_cpu_sales LIMIT 4\"\n",
    "cur.execute(s)\n",
    "cur.fetchall()"
   ]
  },
  {
   "cell_type": "code",
   "execution_count": 25,
   "metadata": {},
   "outputs": [],
   "source": [
    "# Update View: for example change the (name of our VIEW)\n",
    "# cur.execute(\"ALTER VIEW customer_cpu_sales RENAME TO customer_info\")"
   ]
  },
  {
   "cell_type": "code",
   "execution_count": 26,
   "metadata": {},
   "outputs": [],
   "source": [
    "# Delete View:\n",
    "# cur.execute(\"DROP VIEW customer_info\")"
   ]
  },
  {
   "cell_type": "code",
   "execution_count": 28,
   "metadata": {},
   "outputs": [
    {
     "output_type": "execute_result",
     "data": {
      "text/plain": [
       "(datetime.timedelta(days=209),)"
      ]
     },
     "metadata": {},
     "execution_count": 28
    }
   ],
   "source": [
    "# Print no. of days since purchase\n",
    "sales_byDate=\"select date_trunc('day',now() - purchase_date::date) from customer_cpu_sales\"\n",
    "cur.execute(sales_byDate)\n",
    "cur.fetchone()"
   ]
  },
  {
   "source": [
    "View 2\n",
    "- create a view of days elapsed since purchase tracked from today"
   ],
   "cell_type": "markdown",
   "metadata": {}
  },
  {
   "cell_type": "code",
   "execution_count": 54,
   "metadata": {},
   "outputs": [
    {
     "output_type": "execute_result",
     "data": {
      "text/plain": [
       "[('5399-3484-4724-7187',\n",
       "  'gso@qiegan.sqe',\n",
       "  'Donyell Ann',\n",
       "  'Ospina',\n",
       "  '5219459148',\n",
       "  'Intel Core i1-9809K',\n",
       "  datetime.date(2020, 3, 26),\n",
       "  datetime.timedelta(days=209)),\n",
       " ('1630-5261-6108-7631',\n",
       "  'xnji@gfruaxqnvm.fha',\n",
       "  'Bishop',\n",
       "  'Siyed',\n",
       "  '4164254716',\n",
       "  'AMD Ryzen 2 7889X',\n",
       "  datetime.date(2017, 12, 10),\n",
       "  datetime.timedelta(days=1046))]"
      ]
     },
     "metadata": {},
     "execution_count": 54
    }
   ],
   "source": [
    "cust_warr_view=\"CREATE OR REPLACE VIEW customer_warranty AS SELECT *,\\\n",
    "date_trunc('day',now() - purchase_date::date) \\\n",
    "AS days_since_purchase FROM ppl_cpu_purchases\"\n",
    "cur.execute(cust_warr_view)\n",
    "\n",
    "sqq=\"select * from customer_warranty limit 2\"\n",
    "cur.execute(sqq)\n",
    "cur.fetchall()"
   ]
  },
  {
   "cell_type": "code",
   "execution_count": 56,
   "metadata": {},
   "outputs": [
    {
     "output_type": "execute_result",
     "data": {
      "text/plain": [
       "[('5399-3484-4724-7187',\n",
       "  'gso@qiegan.sqe',\n",
       "  'Donyell Ann',\n",
       "  'Ospina',\n",
       "  '5219459148',\n",
       "  'Intel Core i1-9809K',\n",
       "  datetime.date(2020, 3, 26),\n",
       "  datetime.timedelta(days=209),\n",
       "  'Yes'),\n",
       " ('1630-5261-6108-7631',\n",
       "  'xnji@gfruaxqnvm.fha',\n",
       "  'Bishop',\n",
       "  'Siyed',\n",
       "  '4164254716',\n",
       "  'AMD Ryzen 2 7889X',\n",
       "  datetime.date(2017, 12, 10),\n",
       "  datetime.timedelta(days=1046),\n",
       "  'Yes')]"
      ]
     },
     "metadata": {},
     "execution_count": 56
    }
   ],
   "source": [
    "dates_n_warr=\"SELECT *,\\\n",
    "date_trunc('day',now() - purchase_date::date) \\\n",
    "AS days_since_purchase, \\\n",
    "CASE WHEN extract(day from purchase_date::date) < 180 \\\n",
    "THEN 'Yes' ELSE 'No' END AS warranty FROM ppl_cpu_purchases LIMIT 2\"\n",
    "\n",
    "cur.execute(dates_n_warr)\n",
    "cur.fetchall()\n"
   ]
  },
  {
   "cell_type": "code",
   "execution_count": 57,
   "metadata": {},
   "outputs": [
    {
     "output_type": "execute_result",
     "data": {
      "text/plain": [
       "['credit_card',\n",
       " 'email',\n",
       " 'first_name',\n",
       " 'last_name',\n",
       " 'primary_phone',\n",
       " 'cpu',\n",
       " 'purchase_date']"
      ]
     },
     "metadata": {},
     "execution_count": 57
    }
   ],
   "source": [
    "# Finding column names\n",
    "cur.execute(\"Select * FROM ppl_cpu_purchases LIMIT 0\")\n",
    "colnames = [desc[0] for desc in cur.description]\n",
    "colnames"
   ]
  },
  {
   "cell_type": "code",
   "execution_count": 29,
   "metadata": {},
   "outputs": [
    {
     "output_type": "execute_result",
     "data": {
      "text/plain": [
       "     Month_yr  Items Sold\n",
       "0  2020-10-01         129\n",
       "1  2020-09-01         149\n",
       "2  2020-08-01         157\n",
       "3  2020-07-01         166\n",
       "4  2020-06-01         138\n",
       "5  2020-05-01         181\n",
       "6  2020-04-01         151"
      ],
      "text/html": "<div>\n<style scoped>\n    .dataframe tbody tr th:only-of-type {\n        vertical-align: middle;\n    }\n\n    .dataframe tbody tr th {\n        vertical-align: top;\n    }\n\n    .dataframe thead th {\n        text-align: right;\n    }\n</style>\n<table border=\"1\" class=\"dataframe\">\n  <thead>\n    <tr style=\"text-align: right;\">\n      <th></th>\n      <th>Month_yr</th>\n      <th>Items Sold</th>\n    </tr>\n  </thead>\n  <tbody>\n    <tr>\n      <th>0</th>\n      <td>2020-10-01</td>\n      <td>129</td>\n    </tr>\n    <tr>\n      <th>1</th>\n      <td>2020-09-01</td>\n      <td>149</td>\n    </tr>\n    <tr>\n      <th>2</th>\n      <td>2020-08-01</td>\n      <td>157</td>\n    </tr>\n    <tr>\n      <th>3</th>\n      <td>2020-07-01</td>\n      <td>166</td>\n    </tr>\n    <tr>\n      <th>4</th>\n      <td>2020-06-01</td>\n      <td>138</td>\n    </tr>\n    <tr>\n      <th>5</th>\n      <td>2020-05-01</td>\n      <td>181</td>\n    </tr>\n    <tr>\n      <th>6</th>\n      <td>2020-04-01</td>\n      <td>151</td>\n    </tr>\n  </tbody>\n</table>\n</div>"
     },
     "metadata": {},
     "execution_count": 29
    }
   ],
   "source": [
    "# Create Query\n",
    "# Monthly Sales of CPU\n",
    "\n",
    "cpu_g=\"SELECT pg_catalog.date(date_trunc('month',purchase_date)) AS txn_month, \\\n",
    "count(cpu) as monthly_sum \\\n",
    "FROM ppl_cpu_purchases GROUP BY txn_month ORDER BY txn_month DESC\"\n",
    "\n",
    "cur.execute(cpu_g)\n",
    "pd.DataFrame(cur.fetchall(),columns=['Month_yr','Items Sold']).head(7)\n",
    "\n",
    "\n"
   ]
  }
 ]
}