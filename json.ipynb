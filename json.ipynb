{
 "metadata": {
  "language_info": {
   "codemirror_mode": {
    "name": "ipython",
    "version": 3
   },
   "file_extension": ".py",
   "mimetype": "text/x-python",
   "name": "python",
   "nbconvert_exporter": "python",
   "pygments_lexer": "ipython3",
   "version": "3.8.6-final"
  },
  "orig_nbformat": 2,
  "kernelspec": {
   "name": "Python 3.8.6 64-bit",
   "display_name": "Python 3.8.6 64-bit",
   "metadata": {
    "interpreter": {
     "hash": "4cd7ab41f5fca4b9b44701077e38c5ffd31fe66a6cab21e0214b68d958d0e462"
    }
   }
  }
 },
 "nbformat": 4,
 "nbformat_minor": 2,
 "cells": [
  {
   "source": [
    "# Json\n",
    "1. load nested-json data to Postgresql\n",
    "2. query from Python to Postgresql\n"
   ],
   "cell_type": "markdown",
   "metadata": {}
  },
  {
   "cell_type": "code",
   "execution_count": 1,
   "metadata": {},
   "outputs": [],
   "source": [
    "import psycopg2 \n",
    "import psycopg2.extras\n",
    "import psycopg2.extensions\n",
    "import pandas as pd         # create dataframes \n",
    "import calendar             # convert int to month\n",
    "import json\n",
    "from config import config\n",
    "\n",
    "# Get the config params\n",
    "params_ = config()\n",
    "# Connect to the Postgres_DB:\n",
    "conn = psycopg2.connect(**params_)\n",
    "# Create new_cursor allowing us to write Python to execute PSQL:\n",
    "cur = conn.cursor()\n",
    "conn.autocommit = True"
   ]
  },
  {
   "cell_type": "code",
   "execution_count": 2,
   "metadata": {},
   "outputs": [],
   "source": [
    "# Create a Table to store JSON data:\n",
    "\n",
    "def create_staging_table(cursor):\n",
    "    cursor.execute(\"\"\"\n",
    "        DROP TABLE IF EXISTS nested_tweets;\n",
    "        CREATE UNLOGGED TABLE nested_tweets (\n",
    "        ID serial NOT NULL PRIMARY KEY,\n",
    "     retweeted jsonb );\"\"\")\n",
    "# ID serial NOT NULL PRIMARY KEY\n",
    "\n",
    "# Send the Schema to PSQL\n",
    "with conn.cursor() as cursor:\n",
    "    create_staging_table(cursor)"
   ]
  },
  {
   "cell_type": "code",
   "execution_count": 5,
   "metadata": {},
   "outputs": [
    {
     "output_type": "execute_result",
     "data": {
      "text/plain": [
       "                                           retweeted\n",
       "0               {\"retweeted\": [\"Nothing_retweeted\"]}\n",
       "1  {\"retweeted\": [{\"created_at\": \"Mon Jul 13 01:2...\n",
       "2               {\"retweeted\": [\"Nothing_retweeted\"]}\n",
       "3               {\"retweeted\": [\"Nothing_retweeted\"]}\n",
       "4  {\"retweeted\": [{\"created_at\": \"Sat Jul 11 18:5..."
      ],
      "text/html": "<div>\n<style scoped>\n    .dataframe tbody tr th:only-of-type {\n        vertical-align: middle;\n    }\n\n    .dataframe tbody tr th {\n        vertical-align: top;\n    }\n\n    .dataframe thead th {\n        text-align: right;\n    }\n</style>\n<table border=\"1\" class=\"dataframe\">\n  <thead>\n    <tr style=\"text-align: right;\">\n      <th></th>\n      <th>retweeted</th>\n    </tr>\n  </thead>\n  <tbody>\n    <tr>\n      <th>0</th>\n      <td>{\"retweeted\": [\"Nothing_retweeted\"]}</td>\n    </tr>\n    <tr>\n      <th>1</th>\n      <td>{\"retweeted\": [{\"created_at\": \"Mon Jul 13 01:2...</td>\n    </tr>\n    <tr>\n      <th>2</th>\n      <td>{\"retweeted\": [\"Nothing_retweeted\"]}</td>\n    </tr>\n    <tr>\n      <th>3</th>\n      <td>{\"retweeted\": [\"Nothing_retweeted\"]}</td>\n    </tr>\n    <tr>\n      <th>4</th>\n      <td>{\"retweeted\": [{\"created_at\": \"Sat Jul 11 18:5...</td>\n    </tr>\n  </tbody>\n</table>\n</div>"
     },
     "metadata": {},
     "execution_count": 5
    }
   ],
   "source": [
    "twts = pd.read_json('data/nested_tweets04.json')\n",
    "df = twts\n",
    "df['retweeted'] = df #select retweeted column\n",
    "df = df.iloc[:,1:]\n",
    "df.head()"
   ]
  },
  {
   "cell_type": "code",
   "execution_count": 10,
   "metadata": {},
   "outputs": [],
   "source": [
    "# INSERT INTO [table name] ([columns])\n",
    "# VALUES ([values])\n",
    "def fcn(df,table,cur):\n",
    "\n",
    "    if len(df) > 0:\n",
    "        df_columns = list(df)\n",
    "        # create (col1,col2,...)\n",
    "        columns = \",\".join(df_columns)\n",
    "\n",
    "        # create VALUES('%s', '%s\",...) one '%s' per column\n",
    "        values = \"VALUES({})\".format(\",\".join([\"%s\" for _ in df_columns])) \n",
    "\n",
    "        #create INSERT INTO table (columns) VALUES('%s',...)\n",
    "        insert_stmt = \"INSERT INTO {} ({}) {}\".format(table,columns,values)\n",
    "        cur.execute(\"truncate \" + table + \";\")  #avoiding uploading duplicate data!\n",
    "        cur = conn.cursor()\n",
    "        psycopg2.extras.execute_batch(cur, insert_stmt, df.values)\n",
    "    conn.commit()\n",
    "\n",
    "fcn(df,'nested_tweets',cur)\n"
   ]
  },
  {
   "cell_type": "code",
   "execution_count": 12,
   "metadata": {},
   "outputs": [
    {
     "output_type": "execute_result",
     "data": {
      "text/plain": [
       "[(1, {'retweeted': ['Nothing_retweeted']}),\n",
       " (2,\n",
       "  {'retweeted': [{'id': 1282484990459080705,\n",
       "     'geo': None,\n",
       "     'lang': 'fr',\n",
       "     'text': 'Indigenous rights. LGBTQ. Racism. Climate change. Orange Man Bad. https://t.co/eOouenEsqf',\n",
       "     'user': {'id': 38885578,\n",
       "      'url': 'https://t.co/x5G93GBB51',\n",
       "      'lang': None,\n",
       "      'name': 'Gary Lamphier',\n",
       "      'id_str': '38885578',\n",
       "      'entities': {'url': {'urls': [{'url': 'https://t.co/x5G93GBB51',\n",
       "          'indices': [0, 23],\n",
       "          'display_url': 'lamphier.ca',\n",
       "          'expanded_url': 'http://www.lamphier.ca/'}]},\n",
       "       'description': {'urls': []}},\n",
       "      'location': 'Edmonton, Alberta',\n",
       "      'verified': False,\n",
       "      'following': None,\n",
       "      'protected': False,\n",
       "      'time_zone': None,\n",
       "      'created_at': 'Sat May 09 16:57:33 +0000 2009',\n",
       "      'utc_offset': None,\n",
       "      'description': 'Owner Lamphier Communications. Former biz columnist, lifelong news junkie, sports fan, beer lover, proud hubby, dad & grandad.',\n",
       "      'geo_enabled': False,\n",
       "      'screen_name': 'lamphieryeg',\n",
       "      'listed_count': 40,\n",
       "      'friends_count': 4487,\n",
       "      'is_translator': False,\n",
       "      'notifications': None,\n",
       "      'statuses_count': 83822,\n",
       "      'default_profile': False,\n",
       "      'followers_count': 13550,\n",
       "      'translator_type': 'none',\n",
       "      'favourites_count': 27703,\n",
       "      'profile_image_url': 'http://pbs.twimg.com/profile_images/875773010799542272/lIk9xHR6_normal.jpg',\n",
       "      'profile_banner_url': 'https://pbs.twimg.com/profile_banners/38885578/1493998611',\n",
       "      'profile_link_color': '1B95E0',\n",
       "      'profile_text_color': '000000',\n",
       "      'follow_request_sent': None,\n",
       "      'contributors_enabled': False,\n",
       "      'has_extended_profile': True,\n",
       "      'default_profile_image': False,\n",
       "      'is_translation_enabled': False,\n",
       "      'profile_background_tile': False,\n",
       "      'profile_image_url_https': 'https://pbs.twimg.com/profile_images/875773010799542272/lIk9xHR6_normal.jpg',\n",
       "      'profile_background_color': '000000',\n",
       "      'profile_sidebar_fill_color': '000000',\n",
       "      'profile_background_image_url': 'http://abs.twimg.com/images/themes/theme1/bg.png',\n",
       "      'profile_sidebar_border_color': '000000',\n",
       "      'profile_use_background_image': False,\n",
       "      'profile_background_image_url_https': 'https://abs.twimg.com/images/themes/theme1/bg.png'},\n",
       "     'place': None,\n",
       "     'id_str': '1282484990459080705',\n",
       "     'source': '<a href=\"https://mobile.twitter.com\" rel=\"nofollow\">Twitter Web App</a>',\n",
       "     'entities': {'urls': [{'url': 'https://t.co/eOouenEsqf',\n",
       "        'indices': [66, 89],\n",
       "        'display_url': 'twitter.com/carmrunco/stat…',\n",
       "        'expanded_url': 'https://twitter.com/carmrunco/status/1282483761406500865'}],\n",
       "      'symbols': [],\n",
       "      'hashtags': [],\n",
       "      'user_mentions': []},\n",
       "     'metadata': {'result_type': 'recent', 'iso_language_code': 'fr'},\n",
       "     'favorited': False,\n",
       "     'retweeted': False,\n",
       "     'truncated': False,\n",
       "     'created_at': 'Mon Jul 13 01:20:23 +0000 2020',\n",
       "     'coordinates': None,\n",
       "     'contributors': None,\n",
       "     'quoted_status': {'id': 1282483761406500865,\n",
       "      'geo': None,\n",
       "      'lang': 'en',\n",
       "      'text': 'What are the 5? Could make a fun drinking game? https://t.co/COIK4Q1bnN',\n",
       "      'user': {'id': 2962262650,\n",
       "       'url': None,\n",
       "       'lang': None,\n",
       "       'name': 'Carm Runco',\n",
       "       'id_str': '2962262650',\n",
       "       'entities': {'description': {'urls': []}},\n",
       "       'location': 'Hamilton',\n",
       "       'verified': False,\n",
       "       'following': None,\n",
       "       'protected': False,\n",
       "       'time_zone': None,\n",
       "       'created_at': 'Mon Jan 05 15:40:12 +0000 2015',\n",
       "       'utc_offset': None,\n",
       "       'description': 'Former public servant, current lawyer in private practice in the Hammer, father, husband and die hard fan of the Leafs and the Azzurri !!!',\n",
       "       'geo_enabled': False,\n",
       "       'screen_name': 'carmrunco',\n",
       "       'listed_count': 1,\n",
       "       'friends_count': 1737,\n",
       "       'is_translator': False,\n",
       "       'notifications': None,\n",
       "       'statuses_count': 5978,\n",
       "       'default_profile': False,\n",
       "       'followers_count': 327,\n",
       "       'translator_type': 'none',\n",
       "       'favourites_count': 20356,\n",
       "       'profile_image_url': 'http://pbs.twimg.com/profile_images/556120427672928256/Chx2Aehz_normal.jpeg',\n",
       "       'profile_link_color': '3B94D9',\n",
       "       'profile_text_color': '000000',\n",
       "       'follow_request_sent': None,\n",
       "       'contributors_enabled': False,\n",
       "       'has_extended_profile': True,\n",
       "       'default_profile_image': False,\n",
       "       'is_translation_enabled': False,\n",
       "       'profile_background_tile': False,\n",
       "       'profile_image_url_https': 'https://pbs.twimg.com/profile_images/556120427672928256/Chx2Aehz_normal.jpeg',\n",
       "       'profile_background_color': '000000',\n",
       "       'profile_sidebar_fill_color': '000000',\n",
       "       'profile_background_image_url': 'http://abs.twimg.com/images/themes/theme1/bg.png',\n",
       "       'profile_sidebar_border_color': '000000',\n",
       "       'profile_use_background_image': False,\n",
       "       'profile_background_image_url_https': 'https://abs.twimg.com/images/themes/theme1/bg.png'},\n",
       "      'place': None,\n",
       "      'id_str': '1282483761406500865',\n",
       "      'source': '<a href=\"http://twitter.com/download/iphone\" rel=\"nofollow\">Twitter for iPhone</a>',\n",
       "      'entities': {'urls': [{'url': 'https://t.co/COIK4Q1bnN',\n",
       "         'indices': [48, 71],\n",
       "         'display_url': 'twitter.com/lamphieryeg/st…',\n",
       "         'expanded_url': 'https://twitter.com/lamphieryeg/status/1282478279274852352'}],\n",
       "       'symbols': [],\n",
       "       'hashtags': [],\n",
       "       'user_mentions': []},\n",
       "      'metadata': {'result_type': 'recent', 'iso_language_code': 'fr'},\n",
       "      'favorited': False,\n",
       "      'retweeted': False,\n",
       "      'truncated': False,\n",
       "      'created_at': 'Mon Jul 13 01:15:30 +0000 2020',\n",
       "      'coordinates': None,\n",
       "      'contributors': None,\n",
       "      'retweet_count': 0,\n",
       "      'favorite_count': 0,\n",
       "      'is_quote_status': True,\n",
       "      'quoted_status_id': 1282478279274852352,\n",
       "      'possibly_sensitive': False,\n",
       "      'in_reply_to_user_id': None,\n",
       "      'quoted_status_id_str': '1282478279274852352',\n",
       "      'in_reply_to_status_id': None,\n",
       "      'in_reply_to_screen_name': None,\n",
       "      'in_reply_to_user_id_str': None,\n",
       "      'in_reply_to_status_id_str': None},\n",
       "     'retweet_count': 2,\n",
       "     'favorite_count': 4,\n",
       "     'is_quote_status': True,\n",
       "     'quoted_status_id': 1282483761406500865,\n",
       "     'possibly_sensitive': False,\n",
       "     'in_reply_to_user_id': None,\n",
       "     'quoted_status_id_str': '1282483761406500865',\n",
       "     'in_reply_to_status_id': None,\n",
       "     'in_reply_to_screen_name': None,\n",
       "     'in_reply_to_user_id_str': None,\n",
       "     'in_reply_to_status_id_str': None}]}),\n",
       " (3, {'retweeted': ['Nothing_retweeted']}),\n",
       " (4, {'retweeted': ['Nothing_retweeted']})]"
      ]
     },
     "metadata": {},
     "execution_count": 12
    }
   ],
   "source": [
    "cur.execute(\"\"\"\n",
    "SELECT *\n",
    "FROM nested_tweets LIMIT 4;\n",
    "\"\"\")\n",
    "cur.fetchall()"
   ]
  },
  {
   "cell_type": "code",
   "execution_count": 35,
   "metadata": {},
   "outputs": [
    {
     "output_type": "execute_result",
     "data": {
      "text/plain": [
       "[(1, None),\n",
       " (2, '\"Mon Jul 13 01:20:23 +0000 2020\"'),\n",
       " (3, None),\n",
       " (4, None),\n",
       " (5, '\"Sat Jul 11 18:55:25 +0000 2020\"'),\n",
       " (6, '\"Sun Jul 12 22:52:00 +0000 2020\"'),\n",
       " (7, '\"Sun Jul 12 19:02:50 +0000 2020\"')]"
      ]
     },
     "metadata": {},
     "execution_count": 35
    }
   ],
   "source": [
    "cur.execute(\"\"\"\n",
    "SELECT id, (jsonb_array_elements(retweeted->'retweeted')->'created_at')::text as trx_id \n",
    "FROM nested_tweets LIMIT 7;\n",
    "\"\"\")\n",
    "cur.fetchall()"
   ]
  },
  {
   "cell_type": "code",
   "execution_count": 32,
   "metadata": {},
   "outputs": [
    {
     "output_type": "execute_result",
     "data": {
      "text/plain": [
       "[(1, None),\n",
       " (2,\n",
       "  '{\"urls\": [{\"url\": \"https://t.co/eOouenEsqf\", \"indices\": [66, 89], \"display_url\": \"twitter.com/carmrunco/stat…\", \"expanded_url\": \"https://twitter.com/carmrunco/status/1282483761406500865\"}], \"symbols\": [], \"hashtags\": [], \"user_mentions\": []}'),\n",
       " (3, None),\n",
       " (4, None),\n",
       " (5,\n",
       "  '{\"urls\": [{\"url\": \"https://t.co/WcN9JPCBKG\", \"indices\": [117, 140], \"display_url\": \"twitter.com/i/web/status/1…\", \"expanded_url\": \"https://twitter.com/i/web/status/1282025722664517632\"}], \"symbols\": [], \"hashtags\": [], \"user_mentions\": []}'),\n",
       " (6,\n",
       "  '{\"urls\": [{\"url\": \"https://t.co/pazSNK0JM6\", \"indices\": [117, 140], \"display_url\": \"twitter.com/i/web/status/1…\", \"expanded_url\": \"https://twitter.com/i/web/status/1282447649183084545\"}], \"symbols\": [], \"hashtags\": [], \"user_mentions\": []}'),\n",
       " (7,\n",
       "  '{\"urls\": [{\"url\": \"https://t.co/6NRHU7Cc5J\", \"indices\": [117, 140], \"display_url\": \"twitter.com/i/web/status/1…\", \"expanded_url\": \"https://twitter.com/i/web/status/1282389974667743234\"}], \"symbols\": [], \"hashtags\": [], \"user_mentions\": []}')]"
      ]
     },
     "metadata": {},
     "execution_count": 32
    }
   ],
   "source": [
    "# Find entities\n",
    "# 'retweeted' : [{'entries' :{'urls':[{'url':'the_html'}]}]\n",
    "cur.execute(\"\"\"SELECT id, (jsonb_array_elements(retweeted -> 'retweeted')->'entities')::text as trx_id\n",
    "FROM nested_tweets LIMIT 7;\"\"\")\n",
    "cur.fetchall()\n",
    "\n",
    "# Same\n",
    "# cur.execute(\"\"\"SELECT id, retweeted->'retweeted'->0->'created_at' as trx_id\n",
    "# FROM nested_tweets LIMIT 7;\"\"\")"
   ]
  },
  {
   "cell_type": "code",
   "execution_count": 36,
   "metadata": {},
   "outputs": [
    {
     "output_type": "execute_result",
     "data": {
      "text/plain": [
       "[(1, None),\n",
       " (2,\n",
       "  '[{\"url\": \"https://t.co/eOouenEsqf\", \"indices\": [66, 89], \"display_url\": \"twitter.com/carmrunco/stat…\", \"expanded_url\": \"https://twitter.com/carmrunco/status/1282483761406500865\"}]'),\n",
       " (3, None),\n",
       " (4, None),\n",
       " (5,\n",
       "  '[{\"url\": \"https://t.co/WcN9JPCBKG\", \"indices\": [117, 140], \"display_url\": \"twitter.com/i/web/status/1…\", \"expanded_url\": \"https://twitter.com/i/web/status/1282025722664517632\"}]'),\n",
       " (6,\n",
       "  '[{\"url\": \"https://t.co/pazSNK0JM6\", \"indices\": [117, 140], \"display_url\": \"twitter.com/i/web/status/1…\", \"expanded_url\": \"https://twitter.com/i/web/status/1282447649183084545\"}]'),\n",
       " (7,\n",
       "  '[{\"url\": \"https://t.co/6NRHU7Cc5J\", \"indices\": [117, 140], \"display_url\": \"twitter.com/i/web/status/1…\", \"expanded_url\": \"https://twitter.com/i/web/status/1282389974667743234\"}]')]"
      ]
     },
     "metadata": {},
     "execution_count": 36
    }
   ],
   "source": [
    "cur.execute(\"\"\"SELECT id, (jsonb_array_elements(retweeted -> 'retweeted')->'entities'->'urls')::text as trx_id\n",
    "FROM nested_tweets LIMIT 7;\"\"\")\n",
    "cur.fetchall()"
   ]
  },
  {
   "cell_type": "code",
   "execution_count": 37,
   "metadata": {},
   "outputs": [
    {
     "output_type": "execute_result",
     "data": {
      "text/plain": [
       "[(1, None),\n",
       " (2, '\"https://t.co/eOouenEsqf\"'),\n",
       " (3, None),\n",
       " (4, None),\n",
       " (5, '\"https://t.co/WcN9JPCBKG\"'),\n",
       " (6, '\"https://t.co/pazSNK0JM6\"'),\n",
       " (7, '\"https://t.co/6NRHU7Cc5J\"')]"
      ]
     },
     "metadata": {},
     "execution_count": 37
    }
   ],
   "source": [
    "cur.execute(\"\"\"SELECT id, (jsonb_array_elements(retweeted->'retweeted')->'entities'->'urls'->0->'url')::text as trx_id\n",
    "FROM nested_tweets LIMIT 7;\"\"\")\n",
    "cur.fetchall()"
   ]
  },
  {
   "cell_type": "code",
   "execution_count": 43,
   "metadata": {},
   "outputs": [
    {
     "output_type": "execute_result",
     "data": {
      "text/plain": [
       "[(1, None, None),\n",
       " (2,\n",
       "  '\"https://t.co/eOouenEsqf\"',\n",
       "  '\"https://twitter.com/carmrunco/status/1282483761406500865\"'),\n",
       " (3, None, None),\n",
       " (4, None, None),\n",
       " (5,\n",
       "  '\"https://t.co/WcN9JPCBKG\"',\n",
       "  '\"https://twitter.com/i/web/status/1282025722664517632\"'),\n",
       " (6,\n",
       "  '\"https://t.co/pazSNK0JM6\"',\n",
       "  '\"https://twitter.com/i/web/status/1282447649183084545\"'),\n",
       " (7,\n",
       "  '\"https://t.co/6NRHU7Cc5J\"',\n",
       "  '\"https://twitter.com/i/web/status/1282389974667743234\"')]"
      ]
     },
     "metadata": {},
     "execution_count": 43
    }
   ],
   "source": [
    "\n",
    "cur.execute(\"\"\"\n",
    "SELECT id,\n",
    "(jsonb_array_elements(retweeted->'retweeted')->'entities'->'urls'->0->'url')::text as trx_id\n",
    ",(jsonb_array_elements(retweeted->'retweeted')->'entities'->'urls'->0->'expanded_url')::text\n",
    "FROM nested_tweets LIMIT 7;\n",
    "\"\"\")\n",
    "cur.fetchall()"
   ]
  }
 ]
}